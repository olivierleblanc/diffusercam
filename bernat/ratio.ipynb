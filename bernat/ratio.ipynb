{
 "cells": [
  {
   "cell_type": "code",
   "execution_count": 1,
   "metadata": {},
   "outputs": [],
   "source": [
    "import matplotlib.pyplot as plt\n",
    "import matplotlib.image as mpimg\n",
    "import numpy as np\n",
    "import math\n",
    "from skimage import draw\n",
    "from scipy import signal\n",
    "from PIL import Image"
   ]
  },
  {
   "cell_type": "code",
   "execution_count": 4,
   "metadata": {},
   "outputs": [
    {
     "data": {
      "image/png": "[encoded data removed]",
      "text/plain": [
       "<Figure size 432x288 with 1 Axes>"
      ]
     },
     "metadata": {
      "needs_background": "light"
     },
     "output_type": "display_data"
    },
    {
     "data": {
      "text/plain": [
       "88"
      ]
     },
     "execution_count": 4,
     "metadata": {},
     "output_type": "execute_result"
    }
   ],
   "source": [
    "autocon=np.array([[1,5,2,1,5,6],[5,4,8,2,5,3],[5,6,9,7,8,3],[4,6,1,8,7,3],[8,3,3,6,5,0]],dtype=float)\n",
    "plt.imshow(autocon)\n",
    "plt.show()\n",
    "1+5+2+1+5+6+5+5+3+5+8+3+4+7+3+8+3+3+6+5+0"
   ]
  },
  {
   "cell_type": "code",
   "execution_count": 3,
   "metadata": {},
   "outputs": [
    {
     "data": {
      "image/png": "[encoded data removed]",
      "text/plain": [
       "<Figure size 432x288 with 1 Axes>"
      ]
     },
     "metadata": {
      "needs_background": "light"
     },
     "output_type": "display_data"
    },
    {
     "data": {
      "image/png": "[encoded data removed]",
      "text/plain": [
       "<Figure size 432x288 with 1 Axes>"
      ]
     },
     "metadata": {
      "needs_background": "light"
     },
     "output_type": "display_data"
    },
    {
     "name": "stdout",
     "output_type": "stream",
     "text": [
      "2.1477272727272725\n",
      "all 30\n",
      "diskount 21\n",
      "maxxxx 9.0\n"
     ]
    }
   ],
   "source": [
    "radi=2\n",
    "\n",
    "[sy,sx]=autocon.shape\n",
    "max_=np.amax(autocon)\n",
    "[max_y,max_x]=np.where(autocon==max_)\n",
    "max_y=float(max_y)\n",
    "max_x=float(max_x)\n",
    "disk_mask = np.ones((sy, sx), dtype=float)\n",
    "rr, cc = draw.disk((max_y,max_x),radi)\n",
    "disk_mask[rr, cc] = 0\n",
    "autocon_masked=disk_mask*autocon\n",
    "sum_nz=sum(sum(autocon_masked))\n",
    "number_nz=autocon.size-len(rr)\n",
    "average_nz=sum_nz/number_nz\n",
    "ratio_nz=max_/average_nz\n",
    "\n",
    "plt.imshow(disk_mask)\n",
    "plt.show()\n",
    "plt.imshow(autocon_masked)\n",
    "plt.show()\n",
    "print(ratio_nz)\n",
    "print('all',autocon.size)\n",
    "print('diskount',autocon.size-len(rr))\n",
    "print('maxxxx',max_)"
   ]
  },
  {
   "cell_type": "code",
   "execution_count": 8,
   "metadata": {},
   "outputs": [
    {
     "data": {
      "text/plain": [
       "2.1477272727272725"
      ]
     },
     "execution_count": 8,
     "metadata": {},
     "output_type": "execute_result"
    }
   ],
   "source": [
    "avgggg=88/21\n",
    "9/avgggg"
   ]
  }
 ],
 "metadata": {
  "interpreter": {
   "hash": "3efeaf8f12deeee38dec9f04e0b4bdf2695ae390c5ccbfd78431e919e9e4d08d"
  },
  "kernelspec": {
   "display_name": "Python 3.9.10 64-bit",
   "language": "python",
   "name": "python3"
  },
  "language_info": {
   "codemirror_mode": {
    "name": "ipython",
    "version": 3
   },
   "file_extension": ".py",
   "mimetype": "text/x-python",
   "name": "python",
   "nbconvert_exporter": "python",
   "pygments_lexer": "ipython3",
   "version": "3.9.10"
  },
  "orig_nbformat": 4
 },
 "nbformat": 4,
 "nbformat_minor": 2
}
