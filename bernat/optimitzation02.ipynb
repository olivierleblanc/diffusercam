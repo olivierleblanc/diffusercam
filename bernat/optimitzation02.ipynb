{
 "cells": [
  {
   "cell_type": "markdown",
   "metadata": {},
   "source": [
    "# Optimization"
   ]
  },
  {
   "cell_type": "markdown",
   "metadata": {},
   "source": [
    "## Remake of tuto_optim02.py & tuto_optim02b.py "
   ]
  },
  {
   "cell_type": "markdown",
   "metadata": {},
   "source": [
    "## Part I - I0 is a simulated image"
   ]
  },
  {
   "cell_type": "code",
   "execution_count": 1,
   "metadata": {},
   "outputs": [],
   "source": [
    "import matplotlib.pyplot as plt\n",
    "import matplotlib.image as mpimg\n",
    "import numpy as np\n",
    "import math\n",
    "from skimage import draw\n",
    "from scipy import signal\n",
    "from PIL import Image"
   ]
  },
  {
   "cell_type": "markdown",
   "metadata": {},
   "source": [
    "First, we create a function to generate light sources"
   ]
  },
  {
   "cell_type": "code",
   "execution_count": 2,
   "metadata": {},
   "outputs": [],
   "source": [
    "def sources_s(dist,sx,sy):\n",
    "    output=np.zeros((sy,sx), dtype=int) #Generates a sy by sx null matrix\n",
    "    output[math.floor(sy/2),math.ceil((sx-1)/2-dist)]=1  #Sets to 1 a position at distance -dist respect to the center\n",
    "    output[math.floor(sy/2),math.floor((sx-1)/2+dist)]=1 #Sets to 1 a position at distance +dist respect to the center\n",
    "    return output"
   ]
  },
  {
   "cell_type": "markdown",
   "metadata": {},
   "source": [
    "We import the PSF (h(t))"
   ]
  },
  {
   "cell_type": "code",
   "execution_count": 3,
   "metadata": {},
   "outputs": [
    {
     "name": "stdout",
     "output_type": "stream",
     "text": [
      "(616, 820)\n",
      "h(t) imported and reduced correctly!\n",
      "820\n",
      "616\n",
      "820\n",
      "616\n"
     ]
    }
   ],
   "source": [
    "h = Image.open('images/h_0001.jpg')\n",
    "realsize=h.size\n",
    "factor=4\n",
    "newsize=tuple(int(ti/factor) for ti in realsize)\n",
    "h=h.resize(newsize,Image.ANTIALIAS)\n",
    "h = np.array(h,dtype=float)\n",
    "h = h[:, :, 0] #For instance, at point (100,50) we had [0.608, 0.608, 0.608]. Now only have a single 0.608 value.\n",
    "size_x = len(h[0])\n",
    "size_y = len(h)\n",
    "print(h.shape) #[Y,X]\n",
    "print('h(t) imported and reduced correctly!')\n",
    "print(size_x)\n",
    "print(size_y)\n",
    "[size_y,size_x]=h.shape\n",
    "print(size_x)\n",
    "print(size_y)"
   ]
  },
  {
   "cell_type": "markdown",
   "metadata": {},
   "source": [
    "We create i0(t) as x0(t)*h(t)"
   ]
  },
  {
   "cell_type": "code",
   "execution_count": 4,
   "metadata": {},
   "outputs": [
    {
     "name": "stdout",
     "output_type": "stream",
     "text": [
      "i0(t) generated correctly!\n"
     ]
    }
   ],
   "source": [
    "d0=10\n",
    "x_0=sources_s(d0,size_x,size_y)  #We generate the possible input\n",
    "i_0=signal.fftconvolve(x_0, h,mode='full') #We filter it with h(t)\n",
    "[i_size_y,i_size_x]=i_0.shape # We collect the shape to aviod problems with the subtraction of matrices\n",
    "print('i0(t) generated correctly!')"
   ]
  },
  {
   "cell_type": "markdown",
   "metadata": {},
   "source": [
    "We generate the arrays containg (d,norm)"
   ]
  },
  {
   "cell_type": "code",
   "execution_count": 5,
   "metadata": {},
   "outputs": [
    {
     "name": "stdout",
     "output_type": "stream",
     "text": [
      "410\n"
     ]
    },
    {
     "ename": "ValueError",
     "evalue": "operands could not be broadcast together with shapes (1231,1639) (1846,2458) ",
     "output_type": "error",
     "traceback": [
      "\u001b[1;31m---------------------------------------------------------------------------\u001b[0m",
      "\u001b[1;31mValueError\u001b[0m                                Traceback (most recent call last)",
      "\u001b[1;32mc:\\Users\\Usuari\\Desktop\\diffusercam\\bernat\\optimitzation02.ipynb Cell 12'\u001b[0m in \u001b[0;36m<module>\u001b[1;34m\u001b[0m\n\u001b[0;32m      <a href='vscode-notebook-cell:/c%3A/Users/Usuari/Desktop/diffusercam/bernat/optimitzation02.ipynb#ch0000014?line=7'>8</a>\u001b[0m x_s\u001b[39m=\u001b[39msources_s(d,i_size_x,i_size_y)  \u001b[39m#We generate the possible input\u001b[39;00m\n\u001b[0;32m      <a href='vscode-notebook-cell:/c%3A/Users/Usuari/Desktop/diffusercam/bernat/optimitzation02.ipynb#ch0000014?line=8'>9</a>\u001b[0m i_s\u001b[39m=\u001b[39msignal\u001b[39m.\u001b[39mfftconvolve(x_s, h,mode\u001b[39m=\u001b[39m\u001b[39m'\u001b[39m\u001b[39mfull\u001b[39m\u001b[39m'\u001b[39m) \u001b[39m#We filter it with h(t)\u001b[39;00m\n\u001b[1;32m---> <a href='vscode-notebook-cell:/c%3A/Users/Usuari/Desktop/diffusercam/bernat/optimitzation02.ipynb#ch0000014?line=9'>10</a>\u001b[0m norma \u001b[39m=\u001b[39m np\u001b[39m.\u001b[39mlinalg\u001b[39m.\u001b[39mnorm(i_0\u001b[39m-\u001b[39;49mi_s) \u001b[39m#We obtain the NORM\u001b[39;00m\n\u001b[0;32m     <a href='vscode-notebook-cell:/c%3A/Users/Usuari/Desktop/diffusercam/bernat/optimitzation02.ipynb#ch0000014?line=10'>11</a>\u001b[0m d_array\u001b[39m=\u001b[39mnp\u001b[39m.\u001b[39minsert(d_array,\u001b[39mlen\u001b[39m(d_array),d) \u001b[39m#X-array\u001b[39;00m\n\u001b[0;32m     <a href='vscode-notebook-cell:/c%3A/Users/Usuari/Desktop/diffusercam/bernat/optimitzation02.ipynb#ch0000014?line=11'>12</a>\u001b[0m norm_array\u001b[39m=\u001b[39mnp\u001b[39m.\u001b[39minsert(norm_array,\u001b[39mlen\u001b[39m(norm_array),norma)\n",
      "\u001b[1;31mValueError\u001b[0m: operands could not be broadcast together with shapes (1231,1639) (1846,2458) "
     ]
    }
   ],
   "source": [
    "d_array=np.array([],dtype=float) #To make a plot, we initialize this np.array for the x-axis\n",
    "norm_array=np.array([],dtype=float) #To make a plot, we initialize this np.array for the y-axis\n",
    "\n",
    "range_d=math.floor(len(h[0])/2)\n",
    "print(range_d) #We print the range to know, in advance, the number of iterations\n",
    "\n",
    "for d in range(5,16):\n",
    "    x_s=sources_s(d,i_size_x,i_size_y)  #We generate the possible input\n",
    "    i_s=signal.fftconvolve(x_s, h,mode='full') #We filter it with h(t)\n",
    "    norma = np.linalg.norm(i_0-i_s) #We obtain the NORM\n",
    "    d_array=np.insert(d_array,len(d_array),d) #X-array\n",
    "    norm_array=np.insert(norm_array,len(norm_array),norma) #Y-array"
   ]
  },
  {
   "cell_type": "markdown",
   "metadata": {},
   "source": [
    "Now we have the results in 2 array. We can plot them."
   ]
  },
  {
   "cell_type": "code",
   "execution_count": null,
   "metadata": {},
   "outputs": [],
   "source": [
    "plt.plot(d_array,norm_array)\n",
    "plt.show()"
   ]
  },
  {
   "cell_type": "code",
   "execution_count": null,
   "metadata": {},
   "outputs": [],
   "source": [
    "minim=np.minimum(norm_array)"
   ]
  }
 ],
 "metadata": {
  "interpreter": {
   "hash": "3efeaf8f12deeee38dec9f04e0b4bdf2695ae390c5ccbfd78431e919e9e4d08d"
  },
  "kernelspec": {
   "display_name": "Python 3.9.10 64-bit",
   "language": "python",
   "name": "python3"
  },
  "language_info": {
   "codemirror_mode": {
    "name": "ipython",
    "version": 3
   },
   "file_extension": ".py",
   "mimetype": "text/x-python",
   "name": "python",
   "nbconvert_exporter": "python",
   "pygments_lexer": "ipython3",
   "version": "3.9.10"
  },
  "orig_nbformat": 4
 },
 "nbformat": 4,
 "nbformat_minor": 2
}
