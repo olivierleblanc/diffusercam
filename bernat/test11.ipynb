{
 "cells": [
  {
   "cell_type": "markdown",
   "metadata": {},
   "source": [
    "# Test11"
   ]
  },
  {
   "cell_type": "code",
   "execution_count": 8,
   "metadata": {},
   "outputs": [],
   "source": [
    "import matplotlib.pyplot as plt\n",
    "import matplotlib.image as mpimg\n",
    "import numpy as np\n",
    "import math\n",
    "from skimage import draw\n",
    "from scipy import signal\n",
    "from PIL import Image"
   ]
  },
  {
   "cell_type": "code",
   "execution_count": 9,
   "metadata": {},
   "outputs": [],
   "source": [
    "global_factor = 1\n",
    "\n",
    "def image_open(name):\n",
    "    location='from_camera/test11/'+name+'.png'\n",
    "    image_im = Image.open(location)\n",
    "    realsize=image_im.size\n",
    "    newsize=tuple(int(ti/global_factor) for ti in realsize)\n",
    "    image_im=image_im.resize(newsize,Image.ANTIALIAS)\n",
    "    image_im = np.array(image_im,dtype=float)\n",
    "    image_im = image_im[:, :, 0]\n",
    "    return image_im"
   ]
  },
  {
   "cell_type": "code",
   "execution_count": 10,
   "metadata": {},
   "outputs": [],
   "source": [
    "def fun_ratio(autocon):\n",
    "    [sy,sx]=autocon.shape\n",
    "    max_=np.amax(autocon)\n",
    "    [max_y,max_x]=np.where(autocon==max_)\n",
    "    max_y=float(max_y)\n",
    "    max_x=float(max_x)\n",
    "    disk_mask = np.ones((sy, sx), dtype=float)\n",
    "    rr = np.array([max_y-1, max_y-1, max_y-1, max_y, max_y, max_y, max_y+1, max_y+1, max_y+1],dtype=int)\n",
    "    cc = np.array([max_x-1, max_x, max_x+1, max_x-1, max_x, max_x+1, max_x-1, max_x, max_x+1],dtype=int)\n",
    "    disk_mask[rr, cc] = 0\n",
    "    autocon = np.maximum(autocon,np.ones(autocon.shape)) ### HERE !!!!!!!!!!!!!!!!!!!!!!!!!!!!!!!!!!!!!!!!!\n",
    "    autocon_masked=disk_mask*autocon\n",
    "    sum_nz=sum(sum(autocon_masked))\n",
    "    number_nz=autocon.size-len(rr)\n",
    "    average_nz=sum_nz/number_nz\n",
    "    ratio_nz=max_/average_nz\n",
    "    return ratio_nz"
   ]
  },
  {
   "cell_type": "code",
   "execution_count": 11,
   "metadata": {},
   "outputs": [],
   "source": [
    "def fun_process(distance_name):\n",
    "    imag = image_open(distance_name)\n",
    "    imag -= imag.mean()\n",
    "    imag_auto = signal.fftconvolve(imag,np.flip(imag),mode='same')\n",
    "    imag_ratio = fun_ratio(imag_auto)\n",
    "    return imag_ratio"
   ]
  },
  {
   "cell_type": "code",
   "execution_count": 12,
   "metadata": {},
   "outputs": [
    {
     "name": "stdout",
     "output_type": "stream",
     "text": [
      "2 176.5069616713703\n",
      "3 124.26494867531555\n",
      "4 94.57254890270681\n",
      "5 77.83551172114872\n",
      "6 65.02457627104987\n",
      "7 55.12936758283945\n",
      "8 48.86140019407334\n",
      "9 46.12983055691583\n",
      "10 43.227591419731105\n",
      "11 41.309487233582665\n",
      "12 40.079640750560586\n",
      "13 38.174238502504956\n",
      "14 35.25420682174905\n",
      "15 35.981314046393344\n",
      "16 34.51115809810533\n"
     ]
    }
   ],
   "source": [
    "for d in range(2,17):\n",
    "    d_ratio = fun_process(str(d))\n",
    "    print(d,d_ratio)"
   ]
  }
 ],
 "metadata": {
  "interpreter": {
   "hash": "3efeaf8f12deeee38dec9f04e0b4bdf2695ae390c5ccbfd78431e919e9e4d08d"
  },
  "kernelspec": {
   "display_name": "Python 3.9.10 64-bit",
   "language": "python",
   "name": "python3"
  },
  "language_info": {
   "codemirror_mode": {
    "name": "ipython",
    "version": 3
   },
   "file_extension": ".py",
   "mimetype": "text/x-python",
   "name": "python",
   "nbconvert_exporter": "python",
   "pygments_lexer": "ipython3",
   "version": "3.9.10"
  },
  "orig_nbformat": 4
 },
 "nbformat": 4,
 "nbformat_minor": 2
}
