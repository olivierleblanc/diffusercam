{
 "cells": [
  {
   "cell_type": "markdown",
   "metadata": {},
   "source": [
    "# Live ratio"
   ]
  },
  {
   "cell_type": "code",
   "execution_count": 1,
   "metadata": {},
   "outputs": [
    {
     "ename": "ImportError",
     "evalue": "libf77blas.so.3: cannot open shared object file: No such file or directory",
     "output_type": "error",
     "traceback": [
      "\u001b[0;31m---------------------------------------------------------------------------\u001b[0m",
      "\u001b[0;31mImportError\u001b[0m                               Traceback (most recent call last)",
      "Input \u001b[0;32mIn [1]\u001b[0m, in \u001b[0;36m<module>\u001b[0;34m\u001b[0m\n\u001b[1;32m      3\u001b[0m \u001b[38;5;28;01mimport\u001b[39;00m \u001b[38;5;21;01mnumpy\u001b[39;00m \u001b[38;5;28;01mas\u001b[39;00m \u001b[38;5;21;01mnp\u001b[39;00m\n\u001b[1;32m      4\u001b[0m \u001b[38;5;28;01mimport\u001b[39;00m \u001b[38;5;21;01mmath\u001b[39;00m\n\u001b[0;32m----> 5\u001b[0m \u001b[38;5;28;01mfrom\u001b[39;00m \u001b[38;5;21;01mskimage\u001b[39;00m \u001b[38;5;28;01mimport\u001b[39;00m draw\n\u001b[1;32m      6\u001b[0m \u001b[38;5;28;01mfrom\u001b[39;00m \u001b[38;5;21;01mscipy\u001b[39;00m \u001b[38;5;28;01mimport\u001b[39;00m signal\n\u001b[1;32m      7\u001b[0m \u001b[38;5;28;01mfrom\u001b[39;00m \u001b[38;5;21;01mPIL\u001b[39;00m \u001b[38;5;28;01mimport\u001b[39;00m Image\n",
      "File \u001b[0;32m~/.local/lib/python3.9/site-packages/skimage/__init__.py:157\u001b[0m, in \u001b[0;36m<module>\u001b[0;34m\u001b[0m\n\u001b[1;32m    154\u001b[0m         _raise_build_error(e)\n\u001b[1;32m    156\u001b[0m     \u001b[38;5;66;03m# All skimage root imports go here\u001b[39;00m\n\u001b[0;32m--> 157\u001b[0m     \u001b[38;5;28;01mfrom\u001b[39;00m \u001b[38;5;21;01m.\u001b[39;00m\u001b[38;5;21;01mutil\u001b[39;00m\u001b[38;5;21;01m.\u001b[39;00m\u001b[38;5;21;01mdtype\u001b[39;00m \u001b[38;5;28;01mimport\u001b[39;00m (img_as_float32,\n\u001b[1;32m    158\u001b[0m                              img_as_float64,\n\u001b[1;32m    159\u001b[0m                              img_as_float,\n\u001b[1;32m    160\u001b[0m                              img_as_int,\n\u001b[1;32m    161\u001b[0m                              img_as_uint,\n\u001b[1;32m    162\u001b[0m                              img_as_ubyte,\n\u001b[1;32m    163\u001b[0m                              img_as_bool,\n\u001b[1;32m    164\u001b[0m                              dtype_limits)\n\u001b[1;32m    165\u001b[0m     \u001b[38;5;28;01mfrom\u001b[39;00m \u001b[38;5;21;01m.\u001b[39;00m\u001b[38;5;21;01mutil\u001b[39;00m\u001b[38;5;21;01m.\u001b[39;00m\u001b[38;5;21;01mlookfor\u001b[39;00m \u001b[38;5;28;01mimport\u001b[39;00m lookfor\n\u001b[1;32m    167\u001b[0m \u001b[38;5;28;01mif\u001b[39;00m \u001b[38;5;124m'\u001b[39m\u001b[38;5;124mdev\u001b[39m\u001b[38;5;124m'\u001b[39m \u001b[38;5;129;01min\u001b[39;00m __version__:\n\u001b[1;32m    168\u001b[0m     \u001b[38;5;66;03m# Append last commit date and hash to dev version information, if available\u001b[39;00m\n",
      "File \u001b[0;32m~/.local/lib/python3.9/site-packages/skimage/util/__init__.py:16\u001b[0m, in \u001b[0;36m<module>\u001b[0;34m\u001b[0m\n\u001b[1;32m     14\u001b[0m \u001b[38;5;28;01mfrom\u001b[39;00m \u001b[38;5;21;01m.\u001b[39;00m\u001b[38;5;21;01munique\u001b[39;00m \u001b[38;5;28;01mimport\u001b[39;00m unique_rows\n\u001b[1;32m     15\u001b[0m \u001b[38;5;28;01mfrom\u001b[39;00m \u001b[38;5;21;01m.\u001b[39;00m\u001b[38;5;21;01m_invert\u001b[39;00m \u001b[38;5;28;01mimport\u001b[39;00m invert\n\u001b[0;32m---> 16\u001b[0m \u001b[38;5;28;01mfrom\u001b[39;00m \u001b[38;5;21;01m.\u001b[39;00m\u001b[38;5;21;01m_montage\u001b[39;00m \u001b[38;5;28;01mimport\u001b[39;00m montage\n\u001b[1;32m     17\u001b[0m \u001b[38;5;28;01mfrom\u001b[39;00m \u001b[38;5;21;01m.\u001b[39;00m\u001b[38;5;21;01m_map_array\u001b[39;00m \u001b[38;5;28;01mimport\u001b[39;00m map_array\n\u001b[1;32m     18\u001b[0m \u001b[38;5;28;01mfrom\u001b[39;00m \u001b[38;5;21;01m.\u001b[39;00m\u001b[38;5;21;01m_label\u001b[39;00m \u001b[38;5;28;01mimport\u001b[39;00m label_points\n",
      "File \u001b[0;32m~/.local/lib/python3.9/site-packages/skimage/util/_montage.py:4\u001b[0m, in \u001b[0;36m<module>\u001b[0;34m\u001b[0m\n\u001b[1;32m      1\u001b[0m \u001b[38;5;28;01mimport\u001b[39;00m \u001b[38;5;21;01mnumpy\u001b[39;00m \u001b[38;5;28;01mas\u001b[39;00m \u001b[38;5;21;01mnp\u001b[39;00m\n\u001b[1;32m      3\u001b[0m \u001b[38;5;28;01mfrom\u001b[39;00m \u001b[38;5;21;01m.\u001b[39;00m\u001b[38;5;21;01m.\u001b[39;00m\u001b[38;5;21;01m_shared\u001b[39;00m \u001b[38;5;28;01mimport\u001b[39;00m utils\n\u001b[0;32m----> 4\u001b[0m \u001b[38;5;28;01mfrom\u001b[39;00m \u001b[38;5;21;01m.\u001b[39;00m\u001b[38;5;21;01m.\u001b[39;00m \u001b[38;5;28;01mimport\u001b[39;00m exposure\n\u001b[1;32m      6\u001b[0m __all__ \u001b[38;5;241m=\u001b[39m [\u001b[38;5;124m'\u001b[39m\u001b[38;5;124mmontage\u001b[39m\u001b[38;5;124m'\u001b[39m]\n\u001b[1;32m      9\u001b[0m \u001b[38;5;129m@utils\u001b[39m\u001b[38;5;241m.\u001b[39mchannel_as_last_axis(multichannel_output\u001b[38;5;241m=\u001b[39m\u001b[38;5;28;01mFalse\u001b[39;00m)\n\u001b[1;32m     10\u001b[0m \u001b[38;5;129m@utils\u001b[39m\u001b[38;5;241m.\u001b[39mdeprecate_multichannel_kwarg()\n\u001b[1;32m     11\u001b[0m \u001b[38;5;28;01mdef\u001b[39;00m \u001b[38;5;21mmontage\u001b[39m(arr_in, fill\u001b[38;5;241m=\u001b[39m\u001b[38;5;124m'\u001b[39m\u001b[38;5;124mmean\u001b[39m\u001b[38;5;124m'\u001b[39m, rescale_intensity\u001b[38;5;241m=\u001b[39m\u001b[38;5;28;01mFalse\u001b[39;00m, grid_shape\u001b[38;5;241m=\u001b[39m\u001b[38;5;28;01mNone\u001b[39;00m,\n\u001b[1;32m     12\u001b[0m             padding_width\u001b[38;5;241m=\u001b[39m\u001b[38;5;241m0\u001b[39m, multichannel\u001b[38;5;241m=\u001b[39m\u001b[38;5;28;01mFalse\u001b[39;00m, \u001b[38;5;241m*\u001b[39m, channel_axis\u001b[38;5;241m=\u001b[39m\u001b[38;5;28;01mNone\u001b[39;00m):\n",
      "File \u001b[0;32m~/.local/lib/python3.9/site-packages/skimage/_shared/lazy.py:62\u001b[0m, in \u001b[0;36mattach.<locals>.__getattr__\u001b[0;34m(name)\u001b[0m\n\u001b[1;32m     60\u001b[0m \u001b[38;5;28;01mdef\u001b[39;00m \u001b[38;5;21m__getattr__\u001b[39m(name):\n\u001b[1;32m     61\u001b[0m     \u001b[38;5;28;01mif\u001b[39;00m name \u001b[38;5;129;01min\u001b[39;00m submodules:\n\u001b[0;32m---> 62\u001b[0m         \u001b[38;5;28;01mreturn\u001b[39;00m \u001b[43mimportlib\u001b[49m\u001b[38;5;241;43m.\u001b[39;49m\u001b[43mimport_module\u001b[49m\u001b[43m(\u001b[49m\u001b[38;5;124;43mf\u001b[39;49m\u001b[38;5;124;43m'\u001b[39;49m\u001b[38;5;132;43;01m{\u001b[39;49;00m\u001b[43mpackage_name\u001b[49m\u001b[38;5;132;43;01m}\u001b[39;49;00m\u001b[38;5;124;43m.\u001b[39;49m\u001b[38;5;132;43;01m{\u001b[39;49;00m\u001b[43mname\u001b[49m\u001b[38;5;132;43;01m}\u001b[39;49;00m\u001b[38;5;124;43m'\u001b[39;49m\u001b[43m)\u001b[49m\n\u001b[1;32m     63\u001b[0m     \u001b[38;5;28;01melif\u001b[39;00m name \u001b[38;5;129;01min\u001b[39;00m attr_to_modules:\n\u001b[1;32m     64\u001b[0m         submod \u001b[38;5;241m=\u001b[39m importlib\u001b[38;5;241m.\u001b[39mimport_module(\n\u001b[1;32m     65\u001b[0m             \u001b[38;5;124mf\u001b[39m\u001b[38;5;124m'\u001b[39m\u001b[38;5;132;01m{\u001b[39;00mpackage_name\u001b[38;5;132;01m}\u001b[39;00m\u001b[38;5;124m.\u001b[39m\u001b[38;5;132;01m{\u001b[39;00mattr_to_modules[name]\u001b[38;5;132;01m}\u001b[39;00m\u001b[38;5;124m'\u001b[39m\n\u001b[1;32m     66\u001b[0m         )\n",
      "File \u001b[0;32m/usr/lib/python3.9/importlib/__init__.py:127\u001b[0m, in \u001b[0;36mimport_module\u001b[0;34m(name, package)\u001b[0m\n\u001b[1;32m    125\u001b[0m             \u001b[38;5;28;01mbreak\u001b[39;00m\n\u001b[1;32m    126\u001b[0m         level \u001b[38;5;241m+\u001b[39m\u001b[38;5;241m=\u001b[39m \u001b[38;5;241m1\u001b[39m\n\u001b[0;32m--> 127\u001b[0m \u001b[38;5;28;01mreturn\u001b[39;00m \u001b[43m_bootstrap\u001b[49m\u001b[38;5;241;43m.\u001b[39;49m\u001b[43m_gcd_import\u001b[49m\u001b[43m(\u001b[49m\u001b[43mname\u001b[49m\u001b[43m[\u001b[49m\u001b[43mlevel\u001b[49m\u001b[43m:\u001b[49m\u001b[43m]\u001b[49m\u001b[43m,\u001b[49m\u001b[43m \u001b[49m\u001b[43mpackage\u001b[49m\u001b[43m,\u001b[49m\u001b[43m \u001b[49m\u001b[43mlevel\u001b[49m\u001b[43m)\u001b[49m\n",
      "File \u001b[0;32m~/.local/lib/python3.9/site-packages/skimage/exposure/__init__.py:6\u001b[0m, in \u001b[0;36m<module>\u001b[0;34m\u001b[0m\n\u001b[1;32m      1\u001b[0m \u001b[38;5;28;01mfrom\u001b[39;00m \u001b[38;5;21;01m.\u001b[39;00m\u001b[38;5;21;01mexposure\u001b[39;00m \u001b[38;5;28;01mimport\u001b[39;00m histogram, equalize_hist, \\\n\u001b[1;32m      2\u001b[0m                       rescale_intensity, cumulative_distribution, \\\n\u001b[1;32m      3\u001b[0m                       adjust_gamma, adjust_sigmoid, adjust_log, \\\n\u001b[1;32m      4\u001b[0m                       is_low_contrast\n\u001b[0;32m----> 6\u001b[0m \u001b[38;5;28;01mfrom\u001b[39;00m \u001b[38;5;21;01m.\u001b[39;00m\u001b[38;5;21;01m_adapthist\u001b[39;00m \u001b[38;5;28;01mimport\u001b[39;00m equalize_adapthist\n\u001b[1;32m      7\u001b[0m \u001b[38;5;28;01mfrom\u001b[39;00m \u001b[38;5;21;01m.\u001b[39;00m\u001b[38;5;21;01mhistogram_matching\u001b[39;00m \u001b[38;5;28;01mimport\u001b[39;00m match_histograms\n\u001b[1;32m     10\u001b[0m __all__ \u001b[38;5;241m=\u001b[39m [\u001b[38;5;124m'\u001b[39m\u001b[38;5;124mhistogram\u001b[39m\u001b[38;5;124m'\u001b[39m,\n\u001b[1;32m     11\u001b[0m            \u001b[38;5;124m'\u001b[39m\u001b[38;5;124mequalize_hist\u001b[39m\u001b[38;5;124m'\u001b[39m,\n\u001b[1;32m     12\u001b[0m            \u001b[38;5;124m'\u001b[39m\u001b[38;5;124mequalize_adapthist\u001b[39m\u001b[38;5;124m'\u001b[39m,\n\u001b[0;32m   (...)\u001b[0m\n\u001b[1;32m     18\u001b[0m            \u001b[38;5;124m'\u001b[39m\u001b[38;5;124mis_low_contrast\u001b[39m\u001b[38;5;124m'\u001b[39m,\n\u001b[1;32m     19\u001b[0m            \u001b[38;5;124m'\u001b[39m\u001b[38;5;124mmatch_histograms\u001b[39m\u001b[38;5;124m'\u001b[39m]\n",
      "File \u001b[0;32m~/.local/lib/python3.9/site-packages/skimage/exposure/_adapthist.py:21\u001b[0m, in \u001b[0;36m<module>\u001b[0;34m\u001b[0m\n\u001b[1;32m     18\u001b[0m \u001b[38;5;28;01mimport\u001b[39;00m \u001b[38;5;21;01mnumpy\u001b[39;00m \u001b[38;5;28;01mas\u001b[39;00m \u001b[38;5;21;01mnp\u001b[39;00m\n\u001b[1;32m     20\u001b[0m \u001b[38;5;28;01mfrom\u001b[39;00m \u001b[38;5;21;01m.\u001b[39;00m\u001b[38;5;21;01m.\u001b[39;00m\u001b[38;5;21;01m_shared\u001b[39;00m\u001b[38;5;21;01m.\u001b[39;00m\u001b[38;5;21;01mutils\u001b[39;00m \u001b[38;5;28;01mimport\u001b[39;00m _supported_float_type\n\u001b[0;32m---> 21\u001b[0m \u001b[38;5;28;01mfrom\u001b[39;00m \u001b[38;5;21;01m.\u001b[39;00m\u001b[38;5;21;01m.\u001b[39;00m\u001b[38;5;21;01mcolor\u001b[39;00m\u001b[38;5;21;01m.\u001b[39;00m\u001b[38;5;21;01madapt_rgb\u001b[39;00m \u001b[38;5;28;01mimport\u001b[39;00m adapt_rgb, hsv_value\n\u001b[1;32m     22\u001b[0m \u001b[38;5;28;01mfrom\u001b[39;00m \u001b[38;5;21;01m.\u001b[39;00m\u001b[38;5;21;01m.\u001b[39;00m\u001b[38;5;21;01mexposure\u001b[39;00m \u001b[38;5;28;01mimport\u001b[39;00m rescale_intensity\n\u001b[1;32m     23\u001b[0m \u001b[38;5;28;01mfrom\u001b[39;00m \u001b[38;5;21;01m.\u001b[39;00m\u001b[38;5;21;01m.\u001b[39;00m\u001b[38;5;21;01mutil\u001b[39;00m \u001b[38;5;28;01mimport\u001b[39;00m img_as_uint\n",
      "File \u001b[0;32m~/.local/lib/python3.9/site-packages/skimage/color/__init__.py:1\u001b[0m, in \u001b[0;36m<module>\u001b[0;34m\u001b[0m\n\u001b[0;32m----> 1\u001b[0m \u001b[38;5;28;01mfrom\u001b[39;00m \u001b[38;5;21;01m.\u001b[39;00m\u001b[38;5;21;01mcolorconv\u001b[39;00m \u001b[38;5;28;01mimport\u001b[39;00m (convert_colorspace,\n\u001b[1;32m      2\u001b[0m                         rgba2rgb,\n\u001b[1;32m      3\u001b[0m                         rgb2hsv,\n\u001b[1;32m      4\u001b[0m                         hsv2rgb,\n\u001b[1;32m      5\u001b[0m                         rgb2xyz,\n\u001b[1;32m      6\u001b[0m                         xyz2rgb,\n\u001b[1;32m      7\u001b[0m                         rgb2rgbcie,\n\u001b[1;32m      8\u001b[0m                         rgbcie2rgb,\n\u001b[1;32m      9\u001b[0m                         rgb2gray,\n\u001b[1;32m     10\u001b[0m                         gray2rgb,\n\u001b[1;32m     11\u001b[0m                         gray2rgba,\n\u001b[1;32m     12\u001b[0m                         xyz2lab,\n\u001b[1;32m     13\u001b[0m                         lab2xyz,\n\u001b[1;32m     14\u001b[0m                         lab2rgb,\n\u001b[1;32m     15\u001b[0m                         rgb2lab,\n\u001b[1;32m     16\u001b[0m                         xyz2luv,\n\u001b[1;32m     17\u001b[0m                         luv2xyz,\n\u001b[1;32m     18\u001b[0m                         luv2rgb,\n\u001b[1;32m     19\u001b[0m                         rgb2luv,\n\u001b[1;32m     20\u001b[0m                         rgb2hed,\n\u001b[1;32m     21\u001b[0m                         hed2rgb,\n\u001b[1;32m     22\u001b[0m                         lab2lch,\n\u001b[1;32m     23\u001b[0m                         lch2lab,\n\u001b[1;32m     24\u001b[0m                         rgb2yuv,\n\u001b[1;32m     25\u001b[0m                         yuv2rgb,\n\u001b[1;32m     26\u001b[0m                         rgb2yiq,\n\u001b[1;32m     27\u001b[0m                         yiq2rgb,\n\u001b[1;32m     28\u001b[0m                         rgb2ypbpr,\n\u001b[1;32m     29\u001b[0m                         ypbpr2rgb,\n\u001b[1;32m     30\u001b[0m                         rgb2ycbcr,\n\u001b[1;32m     31\u001b[0m                         ycbcr2rgb,\n\u001b[1;32m     32\u001b[0m                         rgb2ydbdr,\n\u001b[1;32m     33\u001b[0m                         ydbdr2rgb,\n\u001b[1;32m     34\u001b[0m                         separate_stains,\n\u001b[1;32m     35\u001b[0m                         combine_stains,\n\u001b[1;32m     36\u001b[0m                         rgb_from_hed,\n\u001b[1;32m     37\u001b[0m                         hed_from_rgb,\n\u001b[1;32m     38\u001b[0m                         rgb_from_hdx,\n\u001b[1;32m     39\u001b[0m                         hdx_from_rgb,\n\u001b[1;32m     40\u001b[0m                         rgb_from_fgx,\n\u001b[1;32m     41\u001b[0m                         fgx_from_rgb,\n\u001b[1;32m     42\u001b[0m                         rgb_from_bex,\n\u001b[1;32m     43\u001b[0m                         bex_from_rgb,\n\u001b[1;32m     44\u001b[0m                         rgb_from_rbd,\n\u001b[1;32m     45\u001b[0m                         rbd_from_rgb,\n\u001b[1;32m     46\u001b[0m                         rgb_from_gdx,\n\u001b[1;32m     47\u001b[0m                         gdx_from_rgb,\n\u001b[1;32m     48\u001b[0m                         rgb_from_hax,\n\u001b[1;32m     49\u001b[0m                         hax_from_rgb,\n\u001b[1;32m     50\u001b[0m                         rgb_from_bro,\n\u001b[1;32m     51\u001b[0m                         bro_from_rgb,\n\u001b[1;32m     52\u001b[0m                         rgb_from_bpx,\n\u001b[1;32m     53\u001b[0m                         bpx_from_rgb,\n\u001b[1;32m     54\u001b[0m                         rgb_from_ahx,\n\u001b[1;32m     55\u001b[0m                         ahx_from_rgb,\n\u001b[1;32m     56\u001b[0m                         rgb_from_hpx,\n\u001b[1;32m     57\u001b[0m                         hpx_from_rgb)\n\u001b[1;32m     59\u001b[0m \u001b[38;5;28;01mfrom\u001b[39;00m \u001b[38;5;21;01m.\u001b[39;00m\u001b[38;5;21;01mcolorlabel\u001b[39;00m \u001b[38;5;28;01mimport\u001b[39;00m color_dict, label2rgb\n\u001b[1;32m     61\u001b[0m \u001b[38;5;28;01mfrom\u001b[39;00m \u001b[38;5;21;01m.\u001b[39;00m\u001b[38;5;21;01mdelta_e\u001b[39;00m \u001b[38;5;28;01mimport\u001b[39;00m (deltaE_cie76,\n\u001b[1;32m     62\u001b[0m                       deltaE_ciede94,\n\u001b[1;32m     63\u001b[0m                       deltaE_ciede2000,\n\u001b[1;32m     64\u001b[0m                       deltaE_cmc,\n\u001b[1;32m     65\u001b[0m                       )\n",
      "File \u001b[0;32m~/.local/lib/python3.9/site-packages/skimage/color/colorconv.py:55\u001b[0m, in \u001b[0;36m<module>\u001b[0;34m\u001b[0m\n\u001b[1;32m     52\u001b[0m \u001b[38;5;28;01mfrom\u001b[39;00m \u001b[38;5;21;01mwarnings\u001b[39;00m \u001b[38;5;28;01mimport\u001b[39;00m warn\n\u001b[1;32m     54\u001b[0m \u001b[38;5;28;01mimport\u001b[39;00m \u001b[38;5;21;01mnumpy\u001b[39;00m \u001b[38;5;28;01mas\u001b[39;00m \u001b[38;5;21;01mnp\u001b[39;00m\n\u001b[0;32m---> 55\u001b[0m \u001b[38;5;28;01mfrom\u001b[39;00m \u001b[38;5;21;01mscipy\u001b[39;00m \u001b[38;5;28;01mimport\u001b[39;00m linalg\n\u001b[1;32m     58\u001b[0m \u001b[38;5;28;01mfrom\u001b[39;00m \u001b[38;5;21;01m.\u001b[39;00m\u001b[38;5;21;01m.\u001b[39;00m\u001b[38;5;21;01m_shared\u001b[39;00m\u001b[38;5;21;01m.\u001b[39;00m\u001b[38;5;21;01mutils\u001b[39;00m \u001b[38;5;28;01mimport\u001b[39;00m (_supported_float_type, channel_as_last_axis,\n\u001b[1;32m     59\u001b[0m                              identity, reshape_nd, slice_at_axis)\n\u001b[1;32m     60\u001b[0m \u001b[38;5;28;01mfrom\u001b[39;00m \u001b[38;5;21;01m.\u001b[39;00m\u001b[38;5;21;01m.\u001b[39;00m\u001b[38;5;21;01mutil\u001b[39;00m \u001b[38;5;28;01mimport\u001b[39;00m dtype, dtype_limits\n",
      "File \u001b[0;32m~/.local/lib/python3.9/site-packages/scipy/linalg/__init__.py:198\u001b[0m, in \u001b[0;36m<module>\u001b[0;34m\u001b[0m\n\u001b[1;32m      1\u001b[0m \u001b[38;5;124;03m\"\"\"\u001b[39;00m\n\u001b[1;32m      2\u001b[0m \u001b[38;5;124;03m====================================\u001b[39;00m\n\u001b[1;32m      3\u001b[0m \u001b[38;5;124;03mLinear algebra (:mod:`scipy.linalg`)\u001b[39;00m\n\u001b[0;32m   (...)\u001b[0m\n\u001b[1;32m    195\u001b[0m \n\u001b[1;32m    196\u001b[0m \u001b[38;5;124;03m\"\"\"\u001b[39;00m  \u001b[38;5;66;03m# noqa: E501\u001b[39;00m\n\u001b[0;32m--> 198\u001b[0m \u001b[38;5;28;01mfrom\u001b[39;00m \u001b[38;5;21;01m.\u001b[39;00m\u001b[38;5;21;01m_misc\u001b[39;00m \u001b[38;5;28;01mimport\u001b[39;00m \u001b[38;5;241m*\u001b[39m\n\u001b[1;32m    199\u001b[0m \u001b[38;5;28;01mfrom\u001b[39;00m \u001b[38;5;21;01m.\u001b[39;00m\u001b[38;5;21;01m_cythonized_array_utils\u001b[39;00m \u001b[38;5;28;01mimport\u001b[39;00m \u001b[38;5;241m*\u001b[39m\n\u001b[1;32m    200\u001b[0m \u001b[38;5;28;01mfrom\u001b[39;00m \u001b[38;5;21;01m.\u001b[39;00m\u001b[38;5;21;01m_basic\u001b[39;00m \u001b[38;5;28;01mimport\u001b[39;00m \u001b[38;5;241m*\u001b[39m\n",
      "File \u001b[0;32m~/.local/lib/python3.9/site-packages/scipy/linalg/_misc.py:3\u001b[0m, in \u001b[0;36m<module>\u001b[0;34m\u001b[0m\n\u001b[1;32m      1\u001b[0m \u001b[38;5;28;01mimport\u001b[39;00m \u001b[38;5;21;01mnumpy\u001b[39;00m \u001b[38;5;28;01mas\u001b[39;00m \u001b[38;5;21;01mnp\u001b[39;00m\n\u001b[1;32m      2\u001b[0m \u001b[38;5;28;01mfrom\u001b[39;00m \u001b[38;5;21;01mnumpy\u001b[39;00m\u001b[38;5;21;01m.\u001b[39;00m\u001b[38;5;21;01mlinalg\u001b[39;00m \u001b[38;5;28;01mimport\u001b[39;00m LinAlgError\n\u001b[0;32m----> 3\u001b[0m \u001b[38;5;28;01mfrom\u001b[39;00m \u001b[38;5;21;01m.\u001b[39;00m\u001b[38;5;21;01mblas\u001b[39;00m \u001b[38;5;28;01mimport\u001b[39;00m get_blas_funcs\n\u001b[1;32m      4\u001b[0m \u001b[38;5;28;01mfrom\u001b[39;00m \u001b[38;5;21;01m.\u001b[39;00m\u001b[38;5;21;01mlapack\u001b[39;00m \u001b[38;5;28;01mimport\u001b[39;00m get_lapack_funcs\n\u001b[1;32m      6\u001b[0m __all__ \u001b[38;5;241m=\u001b[39m [\u001b[38;5;124m'\u001b[39m\u001b[38;5;124mLinAlgError\u001b[39m\u001b[38;5;124m'\u001b[39m, \u001b[38;5;124m'\u001b[39m\u001b[38;5;124mLinAlgWarning\u001b[39m\u001b[38;5;124m'\u001b[39m, \u001b[38;5;124m'\u001b[39m\u001b[38;5;124mnorm\u001b[39m\u001b[38;5;124m'\u001b[39m]\n",
      "File \u001b[0;32m~/.local/lib/python3.9/site-packages/scipy/linalg/blas.py:213\u001b[0m, in \u001b[0;36m<module>\u001b[0;34m\u001b[0m\n\u001b[1;32m    210\u001b[0m \u001b[38;5;28;01mimport\u001b[39;00m \u001b[38;5;21;01mnumpy\u001b[39;00m \u001b[38;5;28;01mas\u001b[39;00m \u001b[38;5;21;01m_np\u001b[39;00m\n\u001b[1;32m    211\u001b[0m \u001b[38;5;28;01mimport\u001b[39;00m \u001b[38;5;21;01mfunctools\u001b[39;00m\n\u001b[0;32m--> 213\u001b[0m \u001b[38;5;28;01mfrom\u001b[39;00m \u001b[38;5;21;01mscipy\u001b[39;00m\u001b[38;5;21;01m.\u001b[39;00m\u001b[38;5;21;01mlinalg\u001b[39;00m \u001b[38;5;28;01mimport\u001b[39;00m _fblas\n\u001b[1;32m    214\u001b[0m \u001b[38;5;28;01mtry\u001b[39;00m:\n\u001b[1;32m    215\u001b[0m     \u001b[38;5;28;01mfrom\u001b[39;00m \u001b[38;5;21;01mscipy\u001b[39;00m\u001b[38;5;21;01m.\u001b[39;00m\u001b[38;5;21;01mlinalg\u001b[39;00m \u001b[38;5;28;01mimport\u001b[39;00m _cblas\n",
      "\u001b[0;31mImportError\u001b[0m: libf77blas.so.3: cannot open shared object file: No such file or directory"
     ]
    }
   ],
   "source": [
    "import matplotlib.pyplot as plt\n",
    "import matplotlib.image as mpimg\n",
    "import numpy as np\n",
    "import math\n",
    "from scipy import signal\n",
    "from PIL import Image\n",
    "from time import sleep\n",
    "import picamera\n",
    "import picamera.array\n"
   ]
  },
  {
   "cell_type": "code",
   "execution_count": null,
   "metadata": {},
   "outputs": [],
   "source": [
    "def fun_ratio(autocon):\n",
    "    [sy,sx]=autocon.shape\n",
    "    max_=np.amax(autocon)\n",
    "    [max_y,max_x]=np.where(autocon==max_)\n",
    "    max_y=float(max_y)\n",
    "    max_x=float(max_x)\n",
    "    disk_mask = np.ones((sy, sx), dtype=float)\n",
    "    rr = np.array([max_y-1, max_y-1, max_y-1, max_y, max_y, max_y, max_y+1, max_y+1, max_y+1])\n",
    "    cc = np.array([max_x-1, max_x, max_x+1, max_x-1, max_x, max_x+1, max_x-1, max_x, max_x+1])\n",
    "    disk_mask[rr, cc] = 0\n",
    "    autocon = np.maximum(autocon,np.ones(autocon.shape)) ### HERE !!!!!!!!!!!!!!!!!!!!!!!!!!!!!!!!!!!!!!!!!\n",
    "    autocon_masked=disk_mask*autocon\n",
    "    sum_nz=sum(sum(autocon_masked))\n",
    "    number_nz=autocon.size-len(rr)\n",
    "    average_nz=sum_nz/number_nz\n",
    "    ratio_nz=max_/average_nz\n",
    "    return ratio_nz"
   ]
  },
  {
   "cell_type": "markdown",
   "metadata": {},
   "source": [
    "Use this code to find the perfect distance live"
   ]
  },
  {
   "cell_type": "code",
   "execution_count": null,
   "metadata": {},
   "outputs": [
    {
     "name": "stdout",
     "output_type": "stream",
     "text": [
      "0.20380999340854622\n",
      "0.6511120126261949\n",
      "0.38469057611263235\n",
      "0.34743925336873627\n",
      "0.9740000946408233\n",
      "0.6831235762061902\n",
      "0.7097755854146024\n",
      "0.8749980111358712\n",
      "0.10951079191233126\n",
      "0.9045177627980013\n",
      "0.841395351719782\n",
      "0.06982690794801882\n",
      "0.07838039350244119\n",
      "0.9399731483419627\n",
      "0.4284389108383585\n",
      "0.7621661149020085\n",
      "0.9394666819873939\n",
      "end\n"
     ]
    }
   ],
   "source": [
    "if __name__== '__main__':\n",
    "    camera = picamera.PiCamera()\n",
    "    camera.color_effects = (128, 128) # The reason why grey image\n",
    "    camera.start_preview(resolution=(410,313),fullscreen=False,window=(20,20,820,616))\n",
    "    camera.exposure_mode = 'auto'\n",
    "    exit = 'init'\n",
    "    while exit != 'exit':\n",
    "        # sleep(2)\n",
    "        camera.capture('from_camera/live/live_img.png', 'png')\n",
    "        image_im = Image.open('from_camera/live/live_img.png')\n",
    "        image_im = np.array(image_im,dtype=float)\n",
    "        image_im = image_im[:, :, 0]\n",
    "        image_im = image_im - image_im.mean()  #Subtract mean\n",
    "        auto_im=signal.fftconvolve(image_im,np.flip(image_im),mode='same') #Autocorrelation\n",
    "        rati_im=fun_ratio(auto_im)\n",
    "        print(rati_im)\n",
    "        exit = input('Press enter to compute the ratio. Write exit to exit :)')\n",
    "        print('end')\n",
    "    camera.stop_preview()"
   ]
  }
 ],
 "metadata": {
  "interpreter": {
   "hash": "3efeaf8f12deeee38dec9f04e0b4bdf2695ae390c5ccbfd78431e919e9e4d08d"
  },
  "kernelspec": {
   "display_name": "Python 3.9.10 64-bit",
   "language": "python",
   "name": "python3"
  },
  "language_info": {
   "codemirror_mode": {
    "name": "ipython",
    "version": 3
   },
   "file_extension": ".py",
   "mimetype": "text/x-python",
   "name": "python",
   "nbconvert_exporter": "python",
   "pygments_lexer": "ipython3",
   "version": "3.9.10"
  },
  "orig_nbformat": 4
 },
 "nbformat": 4,
 "nbformat_minor": 2
}
