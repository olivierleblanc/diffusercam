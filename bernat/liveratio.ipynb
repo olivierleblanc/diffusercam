{
 "cells": [
  {
   "cell_type": "markdown",
   "metadata": {},
   "source": [
    "# Live ratio"
   ]
  },
  {
   "cell_type": "code",
   "execution_count": 5,
   "metadata": {},
   "outputs": [],
   "source": [
    "import matplotlib.pyplot as plt\n",
    "import matplotlib.image as mpimg\n",
    "import numpy as np\n",
    "import math\n",
    "from scipy import signal\n",
    "from PIL import Image\n",
    "from time import sleep\n",
    "import picamera\n",
    "import picamera.array"
   ]
  },
  {
   "cell_type": "code",
   "execution_count": 6,
   "metadata": {},
   "outputs": [],
   "source": [
    "def fun_ratio(autocon):\n",
    "    [sy,sx]=autocon.shape\n",
    "    max_=np.amax(autocon)\n",
    "    [max_y,max_x]=np.where(autocon==max_)\n",
    "    max_y=float(max_y)\n",
    "    max_x=float(max_x)\n",
    "    disk_mask = np.ones((sy, sx), dtype=float)\n",
    "    rr = np.array([max_y-1, max_y-1, max_y-1, max_y, max_y, max_y, max_y+1, max_y+1, max_y+1],dtype=int)\n",
    "    cc = np.array([max_x-1, max_x, max_x+1, max_x-1, max_x, max_x+1, max_x-1, max_x, max_x+1],dtype=int)\n",
    "    disk_mask[rr, cc] = 0\n",
    "    autocon = np.maximum(autocon,np.ones(autocon.shape)) ### HERE !!!!!!!!!!!!!!!!!!!!!!!!!!!!!!!!!!!!!!!!!\n",
    "    autocon_masked=disk_mask*autocon\n",
    "    sum_nz=sum(sum(autocon_masked))\n",
    "    number_nz=autocon.size-len(rr)\n",
    "    average_nz=sum_nz/number_nz\n",
    "    ratio_nz=max_/average_nz\n",
    "    return ratio_nz"
   ]
  },
  {
   "cell_type": "markdown",
   "metadata": {},
   "source": [
    "Use this code to find the perfect distance live"
   ]
  },
  {
   "cell_type": "code",
   "execution_count": 7,
   "metadata": {},
   "outputs": [
    {
     "name": "stderr",
     "output_type": "stream",
     "text": [
      "mmal: mmal_vc_port_enable: failed to enable port vc.null_sink:in:0(OPQV): ENOSPC\n",
      "mmal: mmal_port_enable: failed to enable connected port (vc.null_sink:in:0(OPQV))0x2811400 (ENOSPC)\n",
      "mmal: mmal_connection_enable: output port couldn't be enabled\n"
     ]
    },
    {
     "ename": "PiCameraMMALError",
     "evalue": "Failed to enable connection: Out of resources",
     "output_type": "error",
     "traceback": [
      "\u001b[0;31m---------------------------------------------------------------------------\u001b[0m",
      "\u001b[0;31mPiCameraMMALError\u001b[0m                         Traceback (most recent call last)",
      "Input \u001b[0;32mIn [7]\u001b[0m, in \u001b[0;36m<module>\u001b[0;34m\u001b[0m\n\u001b[1;32m      1\u001b[0m \u001b[38;5;28;01mif\u001b[39;00m \u001b[38;5;18m__name__\u001b[39m\u001b[38;5;241m==\u001b[39m \u001b[38;5;124m'\u001b[39m\u001b[38;5;124m__main__\u001b[39m\u001b[38;5;124m'\u001b[39m:\n\u001b[0;32m----> 2\u001b[0m     camera \u001b[38;5;241m=\u001b[39m \u001b[43mpicamera\u001b[49m\u001b[38;5;241;43m.\u001b[39;49m\u001b[43mPiCamera\u001b[49m\u001b[43m(\u001b[49m\u001b[43m)\u001b[49m\n\u001b[1;32m      3\u001b[0m     camera\u001b[38;5;241m.\u001b[39mcolor_effects \u001b[38;5;241m=\u001b[39m (\u001b[38;5;241m128\u001b[39m, \u001b[38;5;241m128\u001b[39m) \u001b[38;5;66;03m# The reason why grey image\u001b[39;00m\n\u001b[1;32m      4\u001b[0m     camera\u001b[38;5;241m.\u001b[39mstart_preview(resolution\u001b[38;5;241m=\u001b[39m(\u001b[38;5;241m410\u001b[39m,\u001b[38;5;241m313\u001b[39m),fullscreen\u001b[38;5;241m=\u001b[39m\u001b[38;5;28;01mFalse\u001b[39;00m,window\u001b[38;5;241m=\u001b[39m(\u001b[38;5;241m10\u001b[39m,\u001b[38;5;241m10\u001b[39m,\u001b[38;5;241m410\u001b[39m,\u001b[38;5;241m308\u001b[39m))\n",
      "File \u001b[0;32m/usr/lib/python3/dist-packages/picamera/camera.py:433\u001b[0m, in \u001b[0;36mPiCamera.__init__\u001b[0;34m(self, camera_num, stereo_mode, stereo_decimate, resolution, framerate, sensor_mode, led_pin, clock_mode, framerate_range)\u001b[0m\n\u001b[1;32m    431\u001b[0m \u001b[38;5;28mself\u001b[39m\u001b[38;5;241m.\u001b[39m_init_camera(camera_num, stereo_mode, stereo_decimate)\n\u001b[1;32m    432\u001b[0m \u001b[38;5;28mself\u001b[39m\u001b[38;5;241m.\u001b[39m_configure_camera(sensor_mode, framerate, resolution, clock_mode)\n\u001b[0;32m--> 433\u001b[0m \u001b[38;5;28;43mself\u001b[39;49m\u001b[38;5;241;43m.\u001b[39;49m\u001b[43m_init_preview\u001b[49m\u001b[43m(\u001b[49m\u001b[43m)\u001b[49m\n\u001b[1;32m    434\u001b[0m \u001b[38;5;28mself\u001b[39m\u001b[38;5;241m.\u001b[39m_init_splitter()\n\u001b[1;32m    435\u001b[0m \u001b[38;5;28mself\u001b[39m\u001b[38;5;241m.\u001b[39m_camera\u001b[38;5;241m.\u001b[39menable()\n",
      "File \u001b[0;32m/usr/lib/python3/dist-packages/picamera/camera.py:512\u001b[0m, in \u001b[0;36mPiCamera._init_preview\u001b[0;34m(self)\u001b[0m\n\u001b[1;32m    507\u001b[0m \u001b[38;5;28;01mdef\u001b[39;00m \u001b[38;5;21m_init_preview\u001b[39m(\u001b[38;5;28mself\u001b[39m):\n\u001b[1;32m    508\u001b[0m     \u001b[38;5;66;03m# Create a null-sink component, enable it and connect it to the\u001b[39;00m\n\u001b[1;32m    509\u001b[0m     \u001b[38;5;66;03m# camera's preview port. If nothing is connected to the preview port,\u001b[39;00m\n\u001b[1;32m    510\u001b[0m     \u001b[38;5;66;03m# the camera doesn't measure exposure and captured images gradually\u001b[39;00m\n\u001b[1;32m    511\u001b[0m     \u001b[38;5;66;03m# fade to black (issue #22)\u001b[39;00m\n\u001b[0;32m--> 512\u001b[0m     \u001b[38;5;28mself\u001b[39m\u001b[38;5;241m.\u001b[39m_preview \u001b[38;5;241m=\u001b[39m \u001b[43mPiNullSink\u001b[49m\u001b[43m(\u001b[49m\n\u001b[1;32m    513\u001b[0m \u001b[43m        \u001b[49m\u001b[38;5;28;43mself\u001b[39;49m\u001b[43m,\u001b[49m\u001b[43m \u001b[49m\u001b[38;5;28;43mself\u001b[39;49m\u001b[38;5;241;43m.\u001b[39;49m\u001b[43m_camera\u001b[49m\u001b[38;5;241;43m.\u001b[39;49m\u001b[43moutputs\u001b[49m\u001b[43m[\u001b[49m\u001b[38;5;28;43mself\u001b[39;49m\u001b[38;5;241;43m.\u001b[39;49m\u001b[43mCAMERA_PREVIEW_PORT\u001b[49m\u001b[43m]\u001b[49m\u001b[43m)\u001b[49m\n",
      "File \u001b[0;32m/usr/lib/python3/dist-packages/picamera/renderers.py:558\u001b[0m, in \u001b[0;36mPiNullSink.__init__\u001b[0;34m(self, parent, source)\u001b[0m\n\u001b[1;32m    556\u001b[0m \u001b[38;5;28mself\u001b[39m\u001b[38;5;241m.\u001b[39mrenderer \u001b[38;5;241m=\u001b[39m mo\u001b[38;5;241m.\u001b[39mMMALNullSink()\n\u001b[1;32m    557\u001b[0m \u001b[38;5;28mself\u001b[39m\u001b[38;5;241m.\u001b[39mrenderer\u001b[38;5;241m.\u001b[39menable()\n\u001b[0;32m--> 558\u001b[0m \u001b[38;5;28;43mself\u001b[39;49m\u001b[38;5;241;43m.\u001b[39;49m\u001b[43mrenderer\u001b[49m\u001b[38;5;241;43m.\u001b[39;49m\u001b[43minputs\u001b[49m\u001b[43m[\u001b[49m\u001b[38;5;241;43m0\u001b[39;49m\u001b[43m]\u001b[49m\u001b[38;5;241;43m.\u001b[39;49m\u001b[43mconnect\u001b[49m\u001b[43m(\u001b[49m\u001b[43msource\u001b[49m\u001b[43m)\u001b[49m\u001b[38;5;241;43m.\u001b[39;49m\u001b[43menable\u001b[49m\u001b[43m(\u001b[49m\u001b[43m)\u001b[49m\n",
      "File \u001b[0;32m/usr/lib/python3/dist-packages/picamera/mmalobj.py:2210\u001b[0m, in \u001b[0;36mMMALConnection.enable\u001b[0;34m(self)\u001b[0m\n\u001b[1;32m   2208\u001b[0m     \u001b[38;5;28mself\u001b[39m\u001b[38;5;241m.\u001b[39m_source\u001b[38;5;241m.\u001b[39mparams[mmal\u001b[38;5;241m.\u001b[39mMMAL_PARAMETER_ZERO_COPY] \u001b[38;5;241m=\u001b[39m \u001b[38;5;28;01mTrue\u001b[39;00m\n\u001b[1;32m   2209\u001b[0m     \u001b[38;5;28mself\u001b[39m\u001b[38;5;241m.\u001b[39m_target\u001b[38;5;241m.\u001b[39mparams[mmal\u001b[38;5;241m.\u001b[39mMMAL_PARAMETER_ZERO_COPY] \u001b[38;5;241m=\u001b[39m \u001b[38;5;28;01mTrue\u001b[39;00m\n\u001b[0;32m-> 2210\u001b[0m \u001b[43mmmal_check\u001b[49m\u001b[43m(\u001b[49m\n\u001b[1;32m   2211\u001b[0m \u001b[43m    \u001b[49m\u001b[43mmmal\u001b[49m\u001b[38;5;241;43m.\u001b[39;49m\u001b[43mmmal_connection_enable\u001b[49m\u001b[43m(\u001b[49m\u001b[38;5;28;43mself\u001b[39;49m\u001b[38;5;241;43m.\u001b[39;49m\u001b[43m_connection\u001b[49m\u001b[43m)\u001b[49m\u001b[43m,\u001b[49m\n\u001b[1;32m   2212\u001b[0m \u001b[43m    \u001b[49m\u001b[43mprefix\u001b[49m\u001b[38;5;241;43m=\u001b[39;49m\u001b[38;5;124;43m\"\u001b[39;49m\u001b[38;5;124;43mFailed to enable connection\u001b[39;49m\u001b[38;5;124;43m\"\u001b[39;49m\u001b[43m)\u001b[49m\n\u001b[1;32m   2213\u001b[0m \u001b[38;5;28;01mif\u001b[39;00m \u001b[38;5;28mself\u001b[39m\u001b[38;5;241m.\u001b[39m_callback \u001b[38;5;129;01mis\u001b[39;00m \u001b[38;5;129;01mnot\u001b[39;00m \u001b[38;5;28;01mNone\u001b[39;00m:\n\u001b[1;32m   2214\u001b[0m     MMALPool(\u001b[38;5;28mself\u001b[39m\u001b[38;5;241m.\u001b[39m_connection[\u001b[38;5;241m0\u001b[39m]\u001b[38;5;241m.\u001b[39mpool)\u001b[38;5;241m.\u001b[39msend_all_buffers(\u001b[38;5;28mself\u001b[39m\u001b[38;5;241m.\u001b[39m_source)\n",
      "File \u001b[0;32m/usr/lib/python3/dist-packages/picamera/exc.py:184\u001b[0m, in \u001b[0;36mmmal_check\u001b[0;34m(status, prefix)\u001b[0m\n\u001b[1;32m    174\u001b[0m \u001b[38;5;124;03m\"\"\"\u001b[39;00m\n\u001b[1;32m    175\u001b[0m \u001b[38;5;124;03mChecks the return status of an mmal call and raises an exception on\u001b[39;00m\n\u001b[1;32m    176\u001b[0m \u001b[38;5;124;03mfailure.\u001b[39;00m\n\u001b[0;32m   (...)\u001b[0m\n\u001b[1;32m    181\u001b[0m \u001b[38;5;124;03mat the start of the exception's message to provide some context.\u001b[39;00m\n\u001b[1;32m    182\u001b[0m \u001b[38;5;124;03m\"\"\"\u001b[39;00m\n\u001b[1;32m    183\u001b[0m \u001b[38;5;28;01mif\u001b[39;00m status \u001b[38;5;241m!=\u001b[39m mmal\u001b[38;5;241m.\u001b[39mMMAL_SUCCESS:\n\u001b[0;32m--> 184\u001b[0m     \u001b[38;5;28;01mraise\u001b[39;00m PiCameraMMALError(status, prefix)\n",
      "\u001b[0;31mPiCameraMMALError\u001b[0m: Failed to enable connection: Out of resources"
     ]
    }
   ],
   "source": [
    "if __name__== '__main__':\n",
    "    camera = picamera.PiCamera()\n",
    "    camera.color_effects = (128, 128) # The reason why grey image\n",
    "    camera.start_preview(resolution=(410,313),fullscreen=False,window=(10,10,410,308))\n",
    "    camera.exposure_mode = 'auto'\n",
    "    exit = 'init'\n",
    "    while exit != 'exit':\n",
    "        sleep(2)\n",
    "        camera.capture('from_camera/live/live_img.png', 'png')\n",
    "        image_im = Image.open('from_camera/live/live_img.png')\n",
    "        image_im = np.array(image_im,dtype=float)\n",
    "        image_im = image_im[:, :, 0]\n",
    "        image_im = image_im - image_im.mean()  #Subtract mean\n",
    "        auto_im=signal.fftconvolve(image_im,np.flip(image_im),mode='same') #Autocorrelation\n",
    "        rati_im=fun_ratio(auto_im)\n",
    "        print(rati_im)\n",
    "        exit = input('Press enter to compute the ratio. Write exit to exit :)')\n",
    "    camera.stop_preview()\n",
    "    print('stop')"
   ]
  },
  {
   "cell_type": "code",
   "execution_count": 4,
   "metadata": {},
   "outputs": [],
   "source": [
    "camera.stop_preview()"
   ]
  }
 ],
 "metadata": {
  "interpreter": {
   "hash": "3efeaf8f12deeee38dec9f04e0b4bdf2695ae390c5ccbfd78431e919e9e4d08d"
  },
  "kernelspec": {
   "display_name": "Python 3.9.10 64-bit",
   "language": "python",
   "name": "python3"
  },
  "language_info": {
   "codemirror_mode": {
    "name": "ipython",
    "version": 3
   },
   "file_extension": ".py",
   "mimetype": "text/x-python",
   "name": "python",
   "nbconvert_exporter": "python",
   "pygments_lexer": "ipython3",
   "version": "3.9.2"
  },
  "orig_nbformat": 4
 },
 "nbformat": 4,
 "nbformat_minor": 2
}
