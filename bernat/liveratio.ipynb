{
 "cells": [
  {
   "cell_type": "markdown",
   "metadata": {},
   "source": [
    "# Live ratio"
   ]
  },
  {
   "cell_type": "code",
   "execution_count": 23,
   "metadata": {},
   "outputs": [],
   "source": [
    "import matplotlib.pyplot as plt\n",
    "import matplotlib.image as mpimg\n",
    "import numpy as np\n",
    "import math\n",
    "from skimage import draw\n",
    "from scipy import signal\n",
    "from PIL import Image"
   ]
  },
  {
   "cell_type": "code",
   "execution_count": null,
   "metadata": {},
   "outputs": [],
   "source": [
    "def fun_ratio(autocon,radi):\n",
    "    [sy,sx]=autocon.shape\n",
    "    max_=np.amax(autocon)\n",
    "    [max_y,max_x]=np.where(autocon==max_)\n",
    "    max_y=float(max_y)\n",
    "    max_x=float(max_x)\n",
    "    disk_mask = np.ones((sy, sx), dtype=float)\n",
    "    rr, cc = draw.disk((max_y,max_x),radi)\n",
    "    disk_mask[rr, cc] = 0\n",
    "    autocon = np.maximum(autocon,np.ones(autocon.shape)) ### HERE !!!!!!!!!!!!!!!!!!!!!!!!!!!!!!!!!!!!!!!!!\n",
    "    autocon_masked=disk_mask*autocon\n",
    "    sum_nz=sum(sum(autocon_masked))\n",
    "    number_nz=autocon.size-len(rr)\n",
    "    average_nz=sum_nz/number_nz\n",
    "    ratio_nz=max_/average_nz\n",
    "    return ratio_nz"
   ]
  },
  {
   "cell_type": "markdown",
   "metadata": {},
   "source": [
    "Use this code to find the perfect distance live"
   ]
  },
  {
   "cell_type": "code",
   "execution_count": 24,
   "metadata": {},
   "outputs": [
    {
     "name": "stdout",
     "output_type": "stream",
     "text": [
      "0.20380999340854622\n",
      "0.6511120126261949\n",
      "0.38469057611263235\n",
      "0.34743925336873627\n",
      "0.9740000946408233\n",
      "0.6831235762061902\n",
      "0.7097755854146024\n",
      "0.8749980111358712\n",
      "0.10951079191233126\n",
      "0.9045177627980013\n",
      "0.841395351719782\n",
      "0.06982690794801882\n",
      "0.07838039350244119\n",
      "0.9399731483419627\n",
      "0.4284389108383585\n",
      "0.7621661149020085\n",
      "0.9394666819873939\n",
      "end\n"
     ]
    }
   ],
   "source": [
    "radii=2\n",
    "exit = 'init'\n",
    "while exit != 'exit':\n",
    "    #1: Capture\n",
    "    image_im = Image.open('from_camera/test06/live_img.png')\n",
    "    image_im = np.array(image_im,dtype=float)\n",
    "    image_im = image_im[:, :, 0]\n",
    "    image_im = image_im - image_im.mean()  #Subtract mean\n",
    "    auto_im=signal.fftconvolve(image_im,np.flip(image_im),mode='same') #Autocorrelation\n",
    "    rati_im=fun_ratio(auto_im,radii)\n",
    "    print(rati_im)\n",
    "    exit = input('Press enter to compute the ratio. Write exit to exit :)')\n",
    "print('end')"
   ]
  }
 ],
 "metadata": {
  "interpreter": {
   "hash": "3efeaf8f12deeee38dec9f04e0b4bdf2695ae390c5ccbfd78431e919e9e4d08d"
  },
  "kernelspec": {
   "display_name": "Python 3.9.10 64-bit",
   "language": "python",
   "name": "python3"
  },
  "language_info": {
   "codemirror_mode": {
    "name": "ipython",
    "version": 3
   },
   "file_extension": ".py",
   "mimetype": "text/x-python",
   "name": "python",
   "nbconvert_exporter": "python",
   "pygments_lexer": "ipython3",
   "version": "3.9.10"
  },
  "orig_nbformat": 4
 },
 "nbformat": 4,
 "nbformat_minor": 2
}
