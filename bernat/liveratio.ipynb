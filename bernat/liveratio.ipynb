{
 "cells": [
  {
   "cell_type": "markdown",
   "metadata": {},
   "source": [
    "# Live ratio"
   ]
  },
  {
   "cell_type": "code",
   "execution_count": 1,
   "metadata": {},
   "outputs": [],
   "source": [
    "import matplotlib.pyplot as plt\n",
    "import matplotlib.image as mpimg\n",
    "import numpy as np\n",
    "import math\n",
    "from scipy import signal\n",
    "from PIL import Image\n",
    "from time import sleep\n",
    "import picamera\n",
    "import picamera.array"
   ]
  },
  {
   "cell_type": "code",
   "execution_count": 2,
   "metadata": {},
   "outputs": [],
   "source": [
    "def fun_ratio(autocon):\n",
    "    [sy,sx]=autocon.shape\n",
    "    max_=np.amax(autocon)\n",
    "    [max_y,max_x]=np.where(autocon==max_)\n",
    "    max_y=float(max_y)\n",
    "    max_x=float(max_x)\n",
    "    disk_mask = np.ones((sy, sx), dtype=float)\n",
    "    rr = np.array([max_y-1, max_y-1, max_y-1, max_y, max_y, max_y, max_y+1, max_y+1, max_y+1],dtype=int)\n",
    "    cc = np.array([max_x-1, max_x, max_x+1, max_x-1, max_x, max_x+1, max_x-1, max_x, max_x+1],dtype=int)\n",
    "    disk_mask[rr, cc] = 0\n",
    "    autocon = np.maximum(autocon,np.ones(autocon.shape)) ### HERE !!!!!!!!!!!!!!!!!!!!!!!!!!!!!!!!!!!!!!!!!\n",
    "    autocon_masked=disk_mask*autocon\n",
    "    sum_nz=sum(sum(autocon_masked))\n",
    "    number_nz=autocon.size-len(rr)\n",
    "    average_nz=sum_nz/number_nz\n",
    "    ratio_nz=max_/average_nz\n",
    "    return ratio_nz"
   ]
  },
  {
   "cell_type": "markdown",
   "metadata": {},
   "source": [
    "Use this code to find the perfect distance live"
   ]
  },
  {
   "cell_type": "code",
   "execution_count": 3,
   "metadata": {},
   "outputs": [
    {
     "name": "stdout",
     "output_type": "stream",
     "text": [
      "<picamera.renderers.PiPreviewRenderer object at 0xb2250988>\n",
      "174.7946975423862\n",
      "173.05354562816194\n",
      "120.04655946198447\n",
      "118.76117501503339\n",
      "91.90209220402983\n",
      "91.16658583209748\n",
      "74.39585275161771\n",
      "74.61869877596153\n",
      "stop\n"
     ]
    }
   ],
   "source": [
    "if __name__== '__main__':\n",
    "    camera = picamera.PiCamera()\n",
    "    camera.color_effects = (128, 128) # The reason why grey image\n",
    "    camera.start_preview(resolution=(410,313),fullscreen=False,window=(10,10,410,308))\n",
    "    camera.exposure_mode = 'auto'\n",
    "    exit = 'init'\n",
    "    while exit != 'exit':\n",
    "        sleep(2)\n",
    "        camera.capture('from_camera/live/live_img.png', 'png')\n",
    "        image_im = Image.open('from_camera/live/live_img.png')\n",
    "        image_im = np.array(image_im,dtype=float)\n",
    "        image_im = image_im[:, :, 0]\n",
    "        image_im = image_im - image_im.mean()  #Subtract mean\n",
    "        auto_im=signal.fftconvolve(image_im,np.flip(image_im),mode='same') #Autocorrelation\n",
    "        rati_im=fun_ratio(auto_im)\n",
    "        print(rati_im)\n",
    "        exit = input('Press enter to compute the ratio. Write exit to exit :)')\n",
    "    camera.stop_preview()\n",
    "    print('stop')"
   ]
  },
  {
   "cell_type": "code",
   "execution_count": 4,
   "metadata": {},
   "outputs": [],
   "source": [
    "camera.stop_preview()"
   ]
  }
 ],
 "metadata": {
  "interpreter": {
   "hash": "3efeaf8f12deeee38dec9f04e0b4bdf2695ae390c5ccbfd78431e919e9e4d08d"
  },
  "kernelspec": {
   "display_name": "Python 3.9.10 64-bit",
   "language": "python",
   "name": "python3"
  },
  "language_info": {
   "codemirror_mode": {
    "name": "ipython",
    "version": 3
   },
   "file_extension": ".py",
   "mimetype": "text/x-python",
   "name": "python",
   "nbconvert_exporter": "python",
   "pygments_lexer": "ipython3",
   "version": "3.9.2"
  },
  "orig_nbformat": 4
 },
 "nbformat": 4,
 "nbformat_minor": 2
}
