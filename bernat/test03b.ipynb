{
 "cells": [
  {
   "cell_type": "code",
   "execution_count": 1,
   "metadata": {},
   "outputs": [],
   "source": [
    "import matplotlib.pyplot as plt\n",
    "import matplotlib.image as mpimg\n",
    "import numpy as np\n",
    "import math\n",
    "from skimage import draw\n",
    "from scipy import signal\n",
    "from PIL import Image"
   ]
  },
  {
   "cell_type": "code",
   "execution_count": 69,
   "metadata": {},
   "outputs": [
    {
     "name": "stdout",
     "output_type": "stream",
     "text": [
      "rati_00000=fun_ratio(auto_00000,radii)\n",
      "rati_00025=fun_ratio(auto_00025,radii)\n",
      "rati_00050=fun_ratio(auto_00050,radii)\n",
      "rati_00075=fun_ratio(auto_00075,radii)\n",
      "rati_00100=fun_ratio(auto_00100,radii)\n",
      "rati_00125=fun_ratio(auto_00125,radii)\n",
      "rati_00150=fun_ratio(auto_00150,radii)\n",
      "rati_00175=fun_ratio(auto_00175,radii)\n",
      "rati_00200=fun_ratio(auto_00200,radii)\n",
      "rati_00225=fun_ratio(auto_00225,radii)\n",
      "rati_00250=fun_ratio(auto_00250,radii)\n",
      "rati_00275=fun_ratio(auto_00275,radii)\n",
      "rati_00300=fun_ratio(auto_00300,radii)\n",
      "rati_00325=fun_ratio(auto_00325,radii)\n",
      "rati_00350=fun_ratio(auto_00350,radii)\n",
      "rati_00375=fun_ratio(auto_00375,radii)\n",
      "rati_00400=fun_ratio(auto_00400,radii)\n",
      "rati_00425=fun_ratio(auto_00425,radii)\n",
      "rati_00450=fun_ratio(auto_00450,radii)\n",
      "rati_00475=fun_ratio(auto_00475,radii)\n",
      "rati_00500=fun_ratio(auto_00500,radii)\n",
      "rati_00525=fun_ratio(auto_00525,radii)\n",
      "rati_00550=fun_ratio(auto_00550,radii)\n",
      "rati_00575=fun_ratio(auto_00575,radii)\n",
      "rati_00600=fun_ratio(auto_00600,radii)\n",
      "rati_00625=fun_ratio(auto_00625,radii)\n",
      "rati_00650=fun_ratio(auto_00650,radii)\n",
      "rati_00675=fun_ratio(auto_00675,radii)\n",
      "rati_00700=fun_ratio(auto_00700,radii)\n",
      "rati_00725=fun_ratio(auto_00725,radii)\n",
      "rati_00750=fun_ratio(auto_00750,radii)\n",
      "rati_00775=fun_ratio(auto_00775,radii)\n",
      "rati_00800=fun_ratio(auto_00800,radii)\n",
      "rati_00825=fun_ratio(auto_00825,radii)\n",
      "rati_00850=fun_ratio(auto_00850,radii)\n",
      "rati_00875=fun_ratio(auto_00875,radii)\n",
      "rati_00900=fun_ratio(auto_00900,radii)\n",
      "rati_00925=fun_ratio(auto_00925,radii)\n",
      "rati_00950=fun_ratio(auto_00950,radii)\n",
      "rati_00975=fun_ratio(auto_00975,radii)\n",
      "rati_01000=fun_ratio(auto_01000,radii)\n",
      "rati_01025=fun_ratio(auto_01025,radii)\n",
      "rati_01050=fun_ratio(auto_01050,radii)\n",
      "rati_01075=fun_ratio(auto_01075,radii)\n",
      "rati_01100=fun_ratio(auto_01100,radii)\n",
      "rati_01125=fun_ratio(auto_01125,radii)\n",
      "rati_01150=fun_ratio(auto_01150,radii)\n",
      "rati_01175=fun_ratio(auto_01175,radii)\n",
      "rati_01200=fun_ratio(auto_01200,radii)\n",
      "rati_01225=fun_ratio(auto_01225,radii)\n",
      "rati_01250=fun_ratio(auto_01250,radii)\n",
      "rati_01275=fun_ratio(auto_01275,radii)\n",
      "rati_01300=fun_ratio(auto_01300,radii)\n",
      "rati_01325=fun_ratio(auto_01325,radii)\n",
      "rati_01350=fun_ratio(auto_01350,radii)\n",
      "rati_01375=fun_ratio(auto_01375,radii)\n",
      "rati_01400=fun_ratio(auto_01400,radii)\n",
      "rati_01425=fun_ratio(auto_01425,radii)\n",
      "rati_01450=fun_ratio(auto_01450,radii)\n",
      "rati_01475=fun_ratio(auto_01475,radii)\n",
      "rati_01500=fun_ratio(auto_01500,radii)\n"
     ]
    }
   ],
   "source": [
    "numbers_array=np.array(range(0,1501,25))\n",
    "for i in range(len(numbers_array)):\n",
    "    number=(5-len(str(numbers_array[i])))*'0'+str(numbers_array[i])\n",
    "    # print(\"auto_\"+number+\"=signal.fftconvolve(dist_\"+number+\",np.flip(dist_\"+number+\"),mode='same')\")\n",
    "    print(\"rati_\"+number+\"=fun_ratio(auto_\"+number+\",radii)\")"
   ]
  },
  {
   "cell_type": "code",
   "execution_count": 63,
   "metadata": {},
   "outputs": [
    {
     "data": {
      "image/png": "[encoded data removed]",
      "text/plain": [
       "<Figure size 432x288 with 1 Axes>"
      ]
     },
     "metadata": {
      "needs_background": "light"
     },
     "output_type": "display_data"
    },
    {
     "name": "stdout",
     "output_type": "stream",
     "text": [
      "[3.0, 7.0]\n"
     ]
    }
   ],
   "source": [
    "[sy,sx]=10,11\n",
    "quad=np.zeros((sy,sx),dtype=float)\n",
    "quad[3,7]=1\n",
    "quad[6,3]=0.5\n",
    "max_=np.amax(quad)\n",
    "[max_y,max_x]=np.where(quad==max_)\n",
    "max_y=float(max_y)\n",
    "max_x=float(max_x)\n",
    "\n",
    "plt.imshow(quad,cmap='gray')\n",
    "plt.show()\n",
    "print([max_y,max_x])"
   ]
  },
  {
   "cell_type": "code",
   "execution_count": 64,
   "metadata": {},
   "outputs": [
    {
     "data": {
      "image/png": "[encoded data removed]",
      "text/plain": [
       "<Figure size 432x288 with 1 Axes>"
      ]
     },
     "metadata": {
      "needs_background": "light"
     },
     "output_type": "display_data"
    },
    {
     "name": "stdout",
     "output_type": "stream",
     "text": [
      "2.0\n"
     ]
    }
   ],
   "source": [
    "radi=1\n",
    "[sy,sx]=quad.shape\n",
    "max_=np.amax(quad)\n",
    "[max_y,max_x]=np.where(quad==max_)\n",
    "max_y=float(max_y)\n",
    "max_x=float(max_x)\n",
    "disk_in = np.zeros((sy, sx), dtype=float)\n",
    "disk_out = np.ones((sy, sx), dtype=float)\n",
    "rr, cc = draw.disk((max_y,max_x),radi)\n",
    "disk_in[rr, cc] = 1\n",
    "disk_out[rr, cc] = 0\n",
    "values_in=disk_in*quad\n",
    "values_out=disk_out*quad\n",
    "average_in_nz = values_in[np.nonzero(values_in)].mean()\n",
    "average_out_nz = values_out[np.nonzero(values_out)].mean()\n",
    "ratio_nz=average_in_nz/average_out_nz\n",
    "\n",
    "plt.imshow(disk_out,cmap='gray')\n",
    "plt.show()\n",
    "print(ratio_nz)"
   ]
  },
  {
   "cell_type": "code",
   "execution_count": 67,
   "metadata": {},
   "outputs": [
    {
     "name": "stdout",
     "output_type": "stream",
     "text": [
      "rati_array=np.array([rati_00000,rati_00025,rati_00050,rati_00075,rati_00100,rati_00125,rati_00150,rati_00175,rati_00200,rati_00225,rati_00250,rati_00275,rati_00300,rati_00325,rati_00350,rati_00375,rati_00400,rati_00425,rati_00450,rati_00475,rati_00500,rati_00525,rati_00550,rati_00575,rati_00600,rati_00625,rati_00650,rati_00675,rati_00700,rati_00725,rati_00750,rati_00775,rati_00800,rati_00825,rati_00850,rati_00875,rati_00900,rati_00925,rati_00950,rati_00975,rati_01000,rati_01025,rati_01050,rati_01075,rati_01100,rati_01125,rati_01150,rati_01175,rati_01200,rati_01225,rati_01250,rati_01275,rati_01300,rati_01325,rati_01350,rati_01375,rati_01400,rati_01425,rati_01450,rati_01475,rati_01500,])\n"
     ]
    }
   ],
   "source": [
    "numbers_array=np.array(range(0,1501,25))\n",
    "texttt=\"rati_array=np.array([\"\n",
    "for i in range(len(numbers_array)):\n",
    "    number=(5-len(str(numbers_array[i])))*'0'+str(numbers_array[i])\n",
    "    # print(\"auto_\"+number+\"=signal.fftconvolve(dist_\"+number+\",np.flip(dist_\"+number+\"),mode='same')\")\n",
    "    texttt=texttt+\"rati_\"+str(number)+\",\"\n",
    "texttt=texttt+'])'\n",
    "print(texttt)"
   ]
  }
 ],
 "metadata": {
  "interpreter": {
   "hash": "3efeaf8f12deeee38dec9f04e0b4bdf2695ae390c5ccbfd78431e919e9e4d08d"
  },
  "kernelspec": {
   "display_name": "Python 3.9.10 64-bit",
   "language": "python",
   "name": "python3"
  },
  "language_info": {
   "codemirror_mode": {
    "name": "ipython",
    "version": 3
   },
   "file_extension": ".py",
   "mimetype": "text/x-python",
   "name": "python",
   "nbconvert_exporter": "python",
   "pygments_lexer": "ipython3",
   "version": "3.9.10"
  },
  "orig_nbformat": 4
 },
 "nbformat": 4,
 "nbformat_minor": 2
}
