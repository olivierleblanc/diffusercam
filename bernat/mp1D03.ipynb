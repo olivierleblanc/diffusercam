{
 "cells": [
  {
   "cell_type": "markdown",
   "metadata": {},
   "source": [
    "# Matching Pursuit"
   ]
  },
  {
   "cell_type": "markdown",
   "metadata": {},
   "source": [
    "from LJ slides"
   ]
  },
  {
   "cell_type": "code",
   "execution_count": 198,
   "metadata": {},
   "outputs": [],
   "source": [
    "import matplotlib.pyplot as plt\n",
    "import matplotlib.image as mpimg\n",
    "import numpy as np\n",
    "import math\n",
    "from skimage import draw\n",
    "from scipy import signal\n",
    "from PIL import Image"
   ]
  },
  {
   "cell_type": "markdown",
   "metadata": {},
   "source": [
    "First, we generate a_real vector and PSI matrix."
   ]
  },
  {
   "cell_type": "code",
   "execution_count": 199,
   "metadata": {},
   "outputs": [
    {
     "name": "stdout",
     "output_type": "stream",
     "text": [
      "d = 15\n"
     ]
    },
    {
     "data": {
      "image/png": "[encoded data removed]",
      "text/plain": [
       "<Figure size 432x288 with 1 Axes>"
      ]
     },
     "metadata": {
      "needs_background": "light"
     },
     "output_type": "display_data"
    },
    {
     "data": {
      "image/png": "[encoded data removed]",
      "text/plain": [
       "<Figure size 432x288 with 1 Axes>"
      ]
     },
     "metadata": {
      "needs_background": "light"
     },
     "output_type": "display_data"
    },
    {
     "data": {
      "image/png": "[encoded data removed]",
      "text/plain": [
       "<Figure size 432x288 with 1 Axes>"
      ]
     },
     "metadata": {
      "needs_background": "light"
     },
     "output_type": "display_data"
    },
    {
     "name": "stdout",
     "output_type": "stream",
     "text": [
      "[ 7.41525384 -0.38694127 -2.95239714  3.31652352 -2.04825584 -4.38717742\n",
      " -3.4922261   7.48487842]\n"
     ]
    }
   ],
   "source": [
    "#a_real\n",
    "a_real = np.array([[0,0,3,0,0,1,0,8,0,0,0,4,0,7,0]],dtype=float).T\n",
    "d = a_real.size\n",
    "print('d =',d)\n",
    "\n",
    "plt.bar(range(d),a_real[:,0])\n",
    "plt.title('a')\n",
    "plt.show()\n",
    "\n",
    "#PSI: I want to be a Normal random distribution\n",
    "np.random.seed(0)\n",
    "N = 8\n",
    "PSI = np.random.rand(N,d) #Not randn bbut rand\n",
    "# PSI -= np.amin(PSI)\n",
    "# PSI /= np.amax(PSI)/2\n",
    "PSI -= PSI.mean()\n",
    "\n",
    "#Normalization?\n",
    "# for j in range(d):\n",
    "#     PSI[:,j] /= np.sum(PSI[:,j])   #This one? L1\n",
    "\n",
    "# for j in range(d):\n",
    "#     PSI[:,j] /= np.max(PSI[:,j])  #This one? Max\n",
    "\n",
    "# for j in range(d):\n",
    "#     PSI[:,j] -= PSI[:,j].mean()\n",
    "#     PSI[:,j] /= PSI[:,j].std()\n",
    "#     PSI[:,j] -= np.amin(PSI[:,j])\n",
    "#     PSI[:,j] /= np.amax(PSI[:,j])\n",
    "\n",
    "for j in range(d):\n",
    "    PSI[:,j] /= np.linalg.norm(PSI[:,j])   #This one? L2\n",
    "\n",
    "PSI -= PSI.mean()\n",
    "\n",
    "plt.imshow(PSI, cmap='gray')\n",
    "plt.title('PSI')\n",
    "plt.show()\n",
    "\n",
    "#x\n",
    "x = PSI@a_real\n",
    "\n",
    "plt.bar(range(N),x[:,0])\n",
    "plt.title('x')\n",
    "plt.show()\n",
    "print(x[:,0])"
   ]
  },
  {
   "cell_type": "code",
   "execution_count": 200,
   "metadata": {},
   "outputs": [
    {
     "name": "stdout",
     "output_type": "stream",
     "text": [
      "r - [x-PSI*a_(k+1)] = 0.0, ans: 0.0\n",
      "<r_(k+1),PSI_i*> = 0.0, ans: -0.001272260034063999\n",
      "r - [x-PSI*a_(k+1)] = 0.0, ans: 1.1102230246251565e-16\n",
      "<r_(k+1),PSI_i*> = 0.0, ans: 0.007889756891416466\n",
      "r - [x-PSI*a_(k+1)] = 0.0, ans: 4.996003610813204e-16\n",
      "<r_(k+1),PSI_i*> = 0.0, ans: -0.0015693346389825669\n",
      "r - [x-PSI*a_(k+1)] = 0.0, ans: 5.551115123125783e-17\n",
      "<r_(k+1),PSI_i*> = 0.0, ans: -0.0003043921322114229\n",
      "r - [x-PSI*a_(k+1)] = 0.0, ans: 1.5543122344752192e-15\n",
      "<r_(k+1),PSI_i*> = 0.0, ans: 3.649819828080436e-05\n",
      "r - [x-PSI*a_(k+1)] = 0.0, ans: -6.38378239159465e-16\n",
      "<r_(k+1),PSI_i*> = 0.0, ans: 0.0001832367820147479\n"
     ]
    },
    {
     "data": {
      "image/png": "[encoded data removed]",
      "text/plain": [
       "<Figure size 1080x360 with 2 Axes>"
      ]
     },
     "metadata": {
      "needs_background": "light"
     },
     "output_type": "display_data"
    }
   ],
   "source": [
    "r = x\n",
    "a = a_real*0\n",
    "k = 0\n",
    "s = 5\n",
    "\n",
    "while (k<=s):\n",
    "    #atom selection\n",
    "    arg2max_array = np.array([[]])\n",
    "    for i in range(d):\n",
    "        arg2max = abs(PSI[:,i:i+1].T@r)\n",
    "        arg2max_array = np.append(arg2max_array,arg2max,axis=1)\n",
    "\n",
    "    i_star, = np.where(arg2max_array[0,:]==np.amax(arg2max_array[0,:]))\n",
    "    i_star = int(i_star)\n",
    "\n",
    "    #coef. update\n",
    "    e = a*0\n",
    "    e[i_star,0]=1\n",
    "    a = a + (PSI[:,i_star:i_star+1].T@r)*e\n",
    "\n",
    "    #residual update\n",
    "    r = r - (PSI[:,i_star:i_star+1].T@r)*PSI[:,i_star:i_star+1]\n",
    "    r2 = x - PSI@a\n",
    "    print('r - [x-PSI*a_(k+1)] = 0.0, ans:',np.sum(r-r2))\n",
    "    print('<r_(k+1),PSI_i*> = 0.0, ans:',float(r.T@PSI[:,i_star:i_star+1]))\n",
    "    \n",
    "    k += 1\n",
    "    # print('k =',k)\n",
    "    # print(np.amax(arg2max_array[0,:]))\n",
    "    # plt.bar(range(d),arg2max_array[0,:])\n",
    "    # plt.show()\n",
    "    # plt.bar(range(d),a[:,0])\n",
    "    # plt.show()\n",
    "\n",
    "fig = plt.figure(figsize=(15,5))\n",
    "fig.add_subplot(1, 2, 1)\n",
    "plt.bar(range(d), a[:,0], width=1, label='a_estimated')\n",
    "plt.bar(range(d), a_real[:,0], width=0.5, label='a_real')\n",
    "plt.title('a')\n",
    "plt.legend()\n",
    "fig.add_subplot(1, 2, 2)\n",
    "plt.bar(range(N),r[:,0])\n",
    "plt.title('residual')\n",
    "plt.show()"
   ]
  },
  {
   "cell_type": "markdown",
   "metadata": {},
   "source": [
    "## OMP"
   ]
  },
  {
   "cell_type": "code",
   "execution_count": 201,
   "metadata": {},
   "outputs": [
    {
     "name": "stdout",
     "output_type": "stream",
     "text": [
      "[7.]\n",
      "[ 7. 13.]\n",
      "[ 7. 13.  2.]\n",
      "[ 7. 13.  2.  3.]\n",
      "[ 7. 13.  2.  3.  9.]\n",
      "[ 7. 13.  2.  3.  9.  8.]\n"
     ]
    },
    {
     "data": {
      "image/png": "[encoded data removed]",
      "text/plain": [
       "<Figure size 1080x360 with 2 Axes>"
      ]
     },
     "metadata": {
      "needs_background": "light"
     },
     "output_type": "display_data"
    }
   ],
   "source": [
    "r = x\n",
    "a = a_real*0\n",
    "k = 0\n",
    "s = 5\n",
    "S = np.array([])\n",
    "PSIS = np.empty((N, 0), float)\n",
    "\n",
    "while (k<=s):\n",
    "    #atom selection\n",
    "    arg2max_array = np.array([[]])\n",
    "    for i in range(d):\n",
    "        arg2max = abs(PSI[:,i:i+1].T@r)\n",
    "        arg2max_array = np.append(arg2max_array,arg2max,axis=1)\n",
    "\n",
    "    i_star, = np.where(arg2max_array[0,:]==np.amax(arg2max_array[0,:]))\n",
    "    i_star = int(i_star)\n",
    "\n",
    "    #support update\n",
    "    S = np.append(S,i_star)\n",
    "\n",
    "    # #coef. update\n",
    "    # arg2min_array = np.array([[]])\n",
    "    # for ai in range(d):\n",
    "    #     arg2min = 0.5*np.linalg.norm(x-PSI@ai)**2\n",
    "    #     arg2min_array = np.append(arg2min_array,arg2min,axis=1)\n",
    "\n",
    "    # numerical shortcut\n",
    "    PSIS = np.append(PSIS, PSI[:,i_star:i_star+1], axis=1)\n",
    "    aS = np.linalg.inv(PSIS.T@PSIS)@PSIS.T@x\n",
    "\n",
    "    a = a_real*0\n",
    "    for index in range(len(S)):\n",
    "        ind2a = int(S[index])\n",
    "        a[ind2a] = aS[index]\n",
    "    print(S)\n",
    "\n",
    "    #residual update\n",
    "    r  = x - PSIS@aS\n",
    "    \n",
    "    k += 1\n",
    "    # print('k =',k)\n",
    "    # print(np.amax(arg2max_array[0,:]))\n",
    "    # plt.bar(range(d),arg2max_array[0,:])\n",
    "    # plt.show()\n",
    "    # plt.bar(range(d),a[:,0])\n",
    "    # plt.show()\n",
    "\n",
    "fig = plt.figure(figsize=(15,5))\n",
    "fig.add_subplot(1, 2, 1)\n",
    "plt.bar(range(d), a[:,0], width=1, label='a_estimated')\n",
    "plt.bar(range(d), a_real[:,0], width=0.5, label='a_real')\n",
    "plt.title('a')\n",
    "plt.legend()\n",
    "fig.add_subplot(1, 2, 2)\n",
    "plt.bar(range(N),r[:,0])\n",
    "plt.title('residual')\n",
    "plt.show()"
   ]
  }
 ],
 "metadata": {
  "interpreter": {
   "hash": "3efeaf8f12deeee38dec9f04e0b4bdf2695ae390c5ccbfd78431e919e9e4d08d"
  },
  "kernelspec": {
   "display_name": "Python 3.9.10 64-bit",
   "language": "python",
   "name": "python3"
  },
  "language_info": {
   "codemirror_mode": {
    "name": "ipython",
    "version": 3
   },
   "file_extension": ".py",
   "mimetype": "text/x-python",
   "name": "python",
   "nbconvert_exporter": "python",
   "pygments_lexer": "ipython3",
   "version": "3.9.10"
  },
  "orig_nbformat": 4
 },
 "nbformat": 4,
 "nbformat_minor": 2
}
