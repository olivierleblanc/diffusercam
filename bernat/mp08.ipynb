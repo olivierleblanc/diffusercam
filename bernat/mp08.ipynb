{
 "cells": [
  {
   "cell_type": "markdown",
   "metadata": {},
   "source": [
    "# Matching Pursuit 2D"
   ]
  },
  {
   "cell_type": "markdown",
   "metadata": {},
   "source": [
    "With the screen"
   ]
  },
  {
   "cell_type": "markdown",
   "metadata": {},
   "source": [
    "Import"
   ]
  },
  {
   "cell_type": "code",
   "execution_count": 15,
   "metadata": {},
   "outputs": [],
   "source": [
    "import matplotlib.pyplot as plt\n",
    "import matplotlib.image as mpimg\n",
    "import numpy as np\n",
    "import math\n",
    "from skimage import draw\n",
    "from scipy import signal\n",
    "from PIL import Image\n",
    "import pywt\n",
    "import pywt.data\n",
    "from utils_wavelet import *\n",
    "import scipy.stats as stats"
   ]
  },
  {
   "cell_type": "markdown",
   "metadata": {},
   "source": [
    "Functions"
   ]
  },
  {
   "cell_type": "code",
   "execution_count": 16,
   "metadata": {},
   "outputs": [],
   "source": [
    "def fun_conv(A,B):\n",
    "    conv = signal.fftconvolve(A,B,mode='same')\n",
    "    return conv\n",
    "\n",
    "def naive_conv(A,B):\n",
    "    C = np.zeros(len(A))\n",
    "    for i in range(len(A)):\n",
    "        C[i] = np.sum(A*np.roll(np.roll(np.flip(B),1),i))\n",
    "    return C\n",
    "\n",
    "def manual_conv(A,B):\n",
    "    C = np.zeros(len(A))\n",
    "    for m in range(len(A)):\n",
    "        for i in range(len(B)):\n",
    "            C[m] += A[i]*B[m-i]\n",
    "    return C\n",
    "\n",
    "def fun_auto(A):\n",
    "    auto = signal.fftconvolve(A,np.flip(A),mode='same')\n",
    "    return auto\n",
    "\n",
    "def imshowArray(arr):\n",
    "    plt.imshow((arr,arr))\n",
    "    plt.ylim([0,1])\n",
    "\n",
    "def npArray2arrayList(a_vector):\n",
    "    fake_a_coef = pywt.wavedec(a_vector,'db1')\n",
    "    a_vector_array = vec2arrayList(a_vector,fake_a_coef)\n",
    "    return a_vector_array\n",
    "\n",
    "def npMatrix2arrayList(a_matrix):\n",
    "    fake_a_coef = pywt.wavedec2(a_matrix,'db1')\n",
    "    a_vector_array = vec2arrayList(a_matrix.flatten(),fake_a_coef)\n",
    "    return a_vector_array"
   ]
  },
  {
   "cell_type": "markdown",
   "metadata": {},
   "source": [
    "PSF vector h"
   ]
  },
  {
   "cell_type": "code",
   "execution_count": 17,
   "metadata": {},
   "outputs": [],
   "source": [
    "global_factor = 4\n",
    "\n",
    "def image_open(location):\n",
    "    image_im = Image.open(location)\n",
    "    realsize=image_im.size\n",
    "    newsize=tuple(int(ti/global_factor) for ti in realsize)\n",
    "    image_im=image_im.resize(newsize,Image.ANTIALIAS)\n",
    "    image_im = np.array(image_im,dtype=float)\n",
    "    image_im = image_im[:, :, 0]\n",
    "    return image_im\n",
    "\n",
    "def image_open_newsize(location,newsize):\n",
    "    image_im = Image.open(location)\n",
    "    image_im=image_im.resize(newsize,Image.ANTIALIAS)\n",
    "    image_im = np.array(image_im,dtype=float)\n",
    "    image_im = image_im[:, :, 0]\n",
    "    return image_im"
   ]
  },
  {
   "cell_type": "code",
   "execution_count": 18,
   "metadata": {},
   "outputs": [],
   "source": [
    "sx = 64\n",
    "sy = 128\n",
    "\n",
    "# sx = 128\n",
    "# sy = 256\n",
    "\n",
    "# h = image_open_newsize('from_camera/test10/h.png',(sy,sx)) - image_open_newsize('from_camera/test10/h_black.png',(sy,sx))\n",
    "# h -= h.mean()\n",
    "\n",
    "# plt.figure(figsize=(20,7))\n",
    "# plt.subplot(1,2,1)\n",
    "# plt.imshow(h,cmap='gray')\n",
    "# plt.subplot(1,2,2)\n",
    "# plt.imshow(fun_auto(h),cmap='gray')\n",
    "# plt.show()"
   ]
  },
  {
   "cell_type": "code",
   "execution_count": null,
   "metadata": {},
   "outputs": [],
   "source": []
  },
  {
   "cell_type": "code",
   "execution_count": 19,
   "metadata": {},
   "outputs": [
    {
     "data": {
      "image/png": "[encoded data removed]",
      "text/plain": [
       "<Figure size 504x504 with 2 Axes>"
      ]
     },
     "metadata": {
      "needs_background": "light"
     },
     "output_type": "display_data"
    }
   ],
   "source": [
    "#defining vector a\n",
    "nz = 4\n",
    "np.random.seed(2)\n",
    "a_xpos = np.random.randint(0,sx,nz)\n",
    "a_ypos = np.random.randint(0,sy,nz)\n",
    "a_GT = np.zeros((sx,sy))\n",
    "a_GT[a_xpos,a_ypos] = abs(np.random.normal(0,1,nz))\n",
    "\n",
    "\n",
    "plt.figure(figsize=(7,7))\n",
    "plt.imshow(a_GT,cmap='gray')\n",
    "plt.title('a GT')\n",
    "plt.colorbar(orientation='horizontal')\n",
    "plt.show()"
   ]
  },
  {
   "cell_type": "code",
   "execution_count": 20,
   "metadata": {},
   "outputs": [
    {
     "name": "stdout",
     "output_type": "stream",
     "text": [
      "Diff = -2.3314683517128287e-15\n"
     ]
    },
    {
     "data": {
      "image/png": "[encoded data removed]",
      "text/plain": [
       "<Figure size 1440x720 with 3 Axes>"
      ]
     },
     "metadata": {
      "needs_background": "light"
     },
     "output_type": "display_data"
    }
   ],
   "source": [
    "#output matrix x\n",
    "x = pywt.waverec2(npMatrix2arrayList(a_GT),'db1')\n",
    "\n",
    "a_recovered = arrayList2vec(pywt.wavedec2(x,'db1')).reshape((sx,sy))\n",
    "\n",
    "print('Diff =',np.sum(a_GT-a_recovered))\n",
    "\n",
    "plt.figure(figsize=(20,10))\n",
    "plt.subplot(1,3,1)\n",
    "plt.imshow(a_GT,cmap='gray')\n",
    "plt.title('a GT')\n",
    "plt.subplot(1,3,2)\n",
    "plt.imshow(a_recovered,cmap='gray')\n",
    "plt.title('a recovered')\n",
    "plt.subplot(1,3,3)\n",
    "plt.imshow(x,cmap='gray')\n",
    "plt.title('x = Ψa')\n",
    "plt.show()"
   ]
  },
  {
   "cell_type": "markdown",
   "metadata": {},
   "source": [
    "Adaptation for screen"
   ]
  },
  {
   "cell_type": "code",
   "execution_count": 43,
   "metadata": {},
   "outputs": [
    {
     "name": "stdout",
     "output_type": "stream",
     "text": [
      "0.0\n",
      "1.0\n"
     ]
    },
    {
     "data": {
      "image/png": "[encoded data removed]",
      "text/plain": [
       "<Figure size 1440x720 with 1 Axes>"
      ]
     },
     "metadata": {
      "needs_background": "light"
     },
     "output_type": "display_data"
    }
   ],
   "source": [
    "x_screen = np.copy(x)\n",
    "x_screen /= np.amin(x_screen)\n",
    "x_screen += 1\n",
    "x_screen /= 2\n",
    "print(np.amin(x_screen))\n",
    "print(np.amax(x_screen))\n",
    "\n",
    "plt.figure(figsize=(20,10))\n",
    "plt.imshow(x_screen,cmap='gray')\n",
    "plt.axis('off')\n",
    "plt.savefig('resultats/mp2screen0.png', bbox_inches='tight')\n",
    "plt.show()"
   ]
  },
  {
   "cell_type": "markdown",
   "metadata": {},
   "source": [
    "Offline computation"
   ]
  },
  {
   "cell_type": "code",
   "execution_count": 21,
   "metadata": {},
   "outputs": [],
   "source": [
    "# #Offline computation (about 20 secons)\n",
    "# weight_array = np.zeros(sx*sy)\n",
    "\n",
    "# for i in range(sx*sy):\n",
    "#     #step 1\n",
    "#     e = np.zeros(sx*sy)\n",
    "#     e[i] = 1\n",
    "#     e = e.reshape(sx,sy)\n",
    "#     phi_i = pywt.waverec2(npMatrix2arrayList(e),'db1')\n",
    "#     #step 2\n",
    "#     theta_i = fun_conv(h,phi_i)\n",
    "#     #step 3\n",
    "#     weight_i = 1/np.linalg.norm(theta_i)\n",
    "#     weight_array[i] = weight_i\n",
    "\n",
    "# plt.figure(figsize=(15,15))\n",
    "# plt.plot(weight_array)\n",
    "# plt.title('weight_array')\n",
    "# plt.show()"
   ]
  },
  {
   "cell_type": "code",
   "execution_count": 22,
   "metadata": {},
   "outputs": [],
   "source": [
    "# #Output matrix y\n",
    "# y = fun_conv(h,x)\n",
    "\n",
    "# plt.figure(figsize=(20,10))\n",
    "# plt.subplot(1,3,1)\n",
    "# plt.imshow(x,cmap='gray')\n",
    "# plt.title('x')\n",
    "# plt.subplot(1,3,2)\n",
    "# plt.imshow(y,cmap='gray')\n",
    "# plt.title('y')\n",
    "# plt.subplot(1,3,3)\n",
    "# plt.imshow(x+y,cmap='gray')\n",
    "# plt.title('x+y')\n",
    "# plt.show()"
   ]
  },
  {
   "cell_type": "markdown",
   "metadata": {},
   "source": [
    "MP loop (about 120 seconds)"
   ]
  },
  {
   "cell_type": "code",
   "execution_count": 23,
   "metadata": {},
   "outputs": [],
   "source": [
    "# r = np.copy(y)\n",
    "# a = np.zeros(sx*sy)\n",
    "# k = 0\n",
    "# s = 4\n",
    "# plotting_product = np.array([])\n",
    "# plotting_residue = np.array([])\n",
    "\n",
    "# while (k<s): \n",
    "#     #atom selection\n",
    "#     arg2max_array = np.zeros(sx*sy)\n",
    "#     for i in range(sx*sy):\n",
    "#         e = np.zeros(sx*sy)\n",
    "#         e[i] = 1\n",
    "#         e = e.reshape(sx,sy)\n",
    "#         phi_i = pywt.waverec2(npMatrix2arrayList(e),'db1')\n",
    "#         theta_i = fun_conv(h,phi_i)\n",
    "#         arg2max = np.sum(theta_i*r)*weight_array[i]\n",
    "#         arg2max_array[i] = arg2max\n",
    "    \n",
    "#     arg2max_abs = abs(arg2max_array)\n",
    "#     i_star, = np.where(arg2max_abs==np.amax(arg2max_abs))\n",
    "#     i_star = int(i_star[0])\n",
    "#     c = arg2max_array[i_star]\n",
    "#     print('c =',c)\n",
    "\n",
    "#     #coef. update\n",
    "#     a[i_star] = c\n",
    "\n",
    "#     #residual update\n",
    "#     e = np.zeros(sx*sy)\n",
    "#     e[i_star] = 1\n",
    "#     e = e.reshape(sx,sy)\n",
    "#     phi_i = pywt.waverec2(npMatrix2arrayList(e),'db1')\n",
    "#     theta_i = fun_conv(h,phi_i)\n",
    "#     r -= c*theta_i*weight_array[i_star]\n",
    "#     print('<r(k+1),Θ(i*)> = 0.0, ans:',np.sum(r*theta_i)*weight_array[i_star])\n",
    "\n",
    "#     #plotting elements\n",
    "#     plotting_product = np.append(plotting_product,c)\n",
    "#     plotting_residue = np.append(plotting_residue,np.linalg.norm(r))\n",
    "    \n",
    "#     #next\n",
    "#     k += 1\n",
    "#     print('k ←',k)\n",
    "\n",
    "# a = a.reshape((sx,sy))"
   ]
  },
  {
   "cell_type": "code",
   "execution_count": 24,
   "metadata": {},
   "outputs": [],
   "source": [
    "# print(np.sum(np.abs(a_GT-a)))\n",
    "\n",
    "# fig = plt.figure(figsize=(20,10))\n",
    "\n",
    "# fig.add_subplot(2,4,1)\n",
    "# plt.imshow(a_GT)\n",
    "# plt.title('a_GT')\n",
    "# plt.colorbar(orientation=\"horizontal\")\n",
    "\n",
    "# fig.add_subplot(2,4,2)\n",
    "# plt.imshow(a)\n",
    "# plt.title('a (recovered via MP)')\n",
    "# plt.colorbar(orientation=\"horizontal\")\n",
    "\n",
    "# fig.add_subplot(2,4,3)\n",
    "# plt.imshow(x)\n",
    "# plt.title('x')\n",
    "# plt.colorbar(orientation=\"horizontal\")\n",
    "\n",
    "# fig.add_subplot(2,4,4)\n",
    "# plt.imshow(y)\n",
    "# plt.title('y')\n",
    "# plt.colorbar(orientation=\"horizontal\")\n",
    "\n",
    "# fig.add_subplot(2,4,5)\n",
    "# plt.imshow(h)\n",
    "# plt.title('h')\n",
    "# plt.colorbar(orientation=\"horizontal\")\n",
    "\n",
    "# fig.add_subplot(2,4,6)\n",
    "# plt.imshow(r)\n",
    "# plt.title('residual')\n",
    "# plt.colorbar(orientation=\"horizontal\")\n",
    "\n",
    "# fig.add_subplot(2,4,7)\n",
    "# plt.plot(plotting_product,'o-',label='product convergence')\n",
    "# plt.plot(plotting_residue,'o-',label='residual convergence')\n",
    "# plt.legend()\n",
    "# plt.title('convergence')\n",
    "\n",
    "# fig.add_subplot(2,4,8)\n",
    "# plt.plot(weight_array)\n",
    "# plt.title('weight vector')\n",
    "\n",
    "# plt.savefig('resultats/mp_2d1.png', bbox_inches='tight')\n",
    "# plt.show()"
   ]
  },
  {
   "cell_type": "code",
   "execution_count": 25,
   "metadata": {},
   "outputs": [],
   "source": [
    "# plt.figure(figsize=(20,20))\n",
    "# plt.imshow(a_GT,cmap='gray')\n",
    "# plt.show()\n",
    "\n",
    "# plt.figure(figsize=(20,20))\n",
    "# plt.imshow(a,cmap='gray')\n",
    "# plt.show()"
   ]
  }
 ],
 "metadata": {
  "interpreter": {
   "hash": "3efeaf8f12deeee38dec9f04e0b4bdf2695ae390c5ccbfd78431e919e9e4d08d"
  },
  "kernelspec": {
   "display_name": "Python 3.9.10 64-bit",
   "language": "python",
   "name": "python3"
  },
  "language_info": {
   "codemirror_mode": {
    "name": "ipython",
    "version": 3
   },
   "file_extension": ".py",
   "mimetype": "text/x-python",
   "name": "python",
   "nbconvert_exporter": "python",
   "pygments_lexer": "ipython3",
   "version": "3.9.10"
  },
  "orig_nbformat": 4
 },
 "nbformat": 4,
 "nbformat_minor": 2
}
