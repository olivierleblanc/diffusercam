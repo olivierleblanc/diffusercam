{
 "cells": [
  {
   "cell_type": "markdown",
   "metadata": {},
   "source": [
    "# Matching Pursuit"
   ]
  },
  {
   "cell_type": "markdown",
   "metadata": {},
   "source": [
    "Import"
   ]
  },
  {
   "cell_type": "code",
   "execution_count": 1,
   "metadata": {},
   "outputs": [],
   "source": [
    "import matplotlib.pyplot as plt\n",
    "import matplotlib.image as mpimg\n",
    "import numpy as np\n",
    "import math\n",
    "from skimage import draw\n",
    "from scipy import signal\n",
    "from PIL import Image\n",
    "import pywt\n",
    "import pywt.data\n",
    "import scipy.stats as stats"
   ]
  },
  {
   "cell_type": "markdown",
   "metadata": {},
   "source": [
    "Functions"
   ]
  },
  {
   "cell_type": "code",
   "execution_count": 2,
   "metadata": {},
   "outputs": [],
   "source": [
    "def fun_conv(A,B):\n",
    "    conv = signal.fftconvolve(A,B,mode='same')\n",
    "    return conv\n",
    "\n",
    "def fun_auto(A):\n",
    "    auto = signal.fftconvolve(A,np.flip(A),mode='same')\n",
    "    return auto\n",
    "\n",
    "def imshowarray(arr):\n",
    "    plt.imshow((arr,arr))\n",
    "    plt.ylim([0,1])"
   ]
  },
  {
   "cell_type": "markdown",
   "metadata": {},
   "source": [
    "Sparse vector a"
   ]
  },
  {
   "cell_type": "code",
   "execution_count": 3,
   "metadata": {},
   "outputs": [
    {
     "data": {
      "image/png": "[encoded data removed]",
      "text/plain": [
       "<Figure size 432x288 with 1 Axes>"
      ]
     },
     "metadata": {
      "needs_background": "light"
     },
     "output_type": "display_data"
    },
    {
     "name": "stdout",
     "output_type": "stream",
     "text": [
      "[ 0.          0.          0.          0.          0.          0.\n",
      "  1.32921217  0.          0.          0.          0.          0.\n",
      "  0.          0.          0.         -0.77003345  0.          0.\n",
      "  0.          0.          0.          0.          0.          0.\n",
      " -0.31628036  0.          0.          0.          0.          0.\n",
      "  0.          0.          0.         -0.99081039  0.          0.\n",
      "  0.          0.          0.          0.        ]\n"
     ]
    }
   ],
   "source": [
    "#defining vector a\n",
    "np.random.seed(24)\n",
    "a_values = np.random.normal(0, 1, 4)\n",
    "d = 40\n",
    "a_real = np.zeros(d)\n",
    "for a_val in range(len(a_values)):\n",
    "    a_real[6+9*a_val] = a_values[a_val]\n",
    "\n",
    "plt.plot(range(d),a_real,'o')\n",
    "plt.title('a')\n",
    "plt.show()\n",
    "print(a_real)"
   ]
  },
  {
   "cell_type": "markdown",
   "metadata": {},
   "source": [
    "PSF vector h"
   ]
  },
  {
   "cell_type": "code",
   "execution_count": 4,
   "metadata": {},
   "outputs": [
    {
     "data": {
      "image/png": "[encoded data removed]",
      "text/plain": [
       "<Figure size 1080x216 with 3 Axes>"
      ]
     },
     "metadata": {
      "needs_background": "light"
     },
     "output_type": "display_data"
    }
   ],
   "source": [
    "h_x = np.linspace(-d*2,d*2,d)\n",
    "\n",
    "h_sig=10\n",
    "h = np.exp(-h_x**2/(2*h_sig**2))\n",
    "\n",
    "# h -= h.mean()\n",
    "\n",
    "plt.figure(figsize=(15,3))\n",
    "plt.subplot(1,3,1)\n",
    "imshowarray(h)\n",
    "plt.subplot(1,3,2)\n",
    "plt.plot(range(d),h)\n",
    "plt.subplot(1,3,3)\n",
    "plt.plot(range(d),fun_auto(h))\n",
    "plt.show()\n"
   ]
  },
  {
   "cell_type": "markdown",
   "metadata": {},
   "source": [
    "Offline computation"
   ]
  },
  {
   "cell_type": "code",
   "execution_count": 5,
   "metadata": {},
   "outputs": [
    {
     "name": "stdout",
     "output_type": "stream",
     "text": [
      "[0.80077251 0.         0.         0.         0.         0.\n",
      " 0.         0.         0.         0.         0.         0.\n",
      " 0.         0.         0.         0.         0.         0.\n",
      " 0.         0.         0.         0.         0.         0.\n",
      " 0.         0.         0.         0.         0.         0.\n",
      " 0.         0.         0.         0.         0.         0.\n",
      " 0.         0.         0.         0.        ]\n",
      "[0.80077251 0.72512086 0.         0.         0.         0.\n",
      " 0.         0.         0.         0.         0.         0.\n",
      " 0.         0.         0.         0.         0.         0.\n",
      " 0.         0.         0.         0.         0.         0.\n",
      " 0.         0.         0.         0.         0.         0.\n",
      " 0.         0.         0.         0.         0.         0.\n",
      " 0.         0.         0.         0.        ]\n",
      "[0.80077251 0.72512086 0.69396057 0.         0.         0.\n",
      " 0.         0.         0.         0.         0.         0.\n",
      " 0.         0.         0.         0.         0.         0.\n",
      " 0.         0.         0.         0.         0.         0.\n",
      " 0.         0.         0.         0.         0.         0.\n",
      " 0.         0.         0.         0.         0.         0.\n",
      " 0.         0.         0.         0.        ]\n",
      "[0.80077251 0.72512086 0.69396057 0.68356916 0.         0.\n",
      " 0.         0.         0.         0.         0.         0.\n",
      " 0.         0.         0.         0.         0.         0.\n",
      " 0.         0.         0.         0.         0.         0.\n",
      " 0.         0.         0.         0.         0.         0.\n",
      " 0.         0.         0.         0.         0.         0.\n",
      " 0.         0.         0.         0.        ]\n",
      "[0.80077251 0.72512086 0.69396057 0.68356916 0.68094144 0.\n",
      " 0.         0.         0.         0.         0.         0.\n",
      " 0.         0.         0.         0.         0.         0.\n",
      " 0.         0.         0.         0.         0.         0.\n",
      " 0.         0.         0.         0.         0.         0.\n",
      " 0.         0.         0.         0.         0.         0.\n",
      " 0.         0.         0.         0.        ]\n",
      "[0.80077251 0.72512086 0.69396057 0.68356916 0.68094144 0.68045655\n",
      " 0.         0.         0.         0.         0.         0.\n",
      " 0.         0.         0.         0.         0.         0.\n",
      " 0.         0.         0.         0.         0.         0.\n",
      " 0.         0.         0.         0.         0.         0.\n",
      " 0.         0.         0.         0.         0.         0.\n",
      " 0.         0.         0.         0.        ]\n",
      "[0.80077251 0.72512086 0.69396057 0.68356916 0.68094144 0.68045655\n",
      " 0.68039228 0.         0.         0.         0.         0.\n",
      " 0.         0.         0.         0.         0.         0.\n",
      " 0.         0.         0.         0.         0.         0.\n",
      " 0.         0.         0.         0.         0.         0.\n",
      " 0.         0.         0.         0.         0.         0.\n",
      " 0.         0.         0.         0.        ]\n",
      "[0.80077251 0.72512086 0.69396057 0.68356916 0.68094144 0.68045655\n",
      " 0.68039228 0.6803862  0.         0.         0.         0.\n",
      " 0.         0.         0.         0.         0.         0.\n",
      " 0.         0.         0.         0.         0.         0.\n",
      " 0.         0.         0.         0.         0.         0.\n",
      " 0.         0.         0.         0.         0.         0.\n",
      " 0.         0.         0.         0.        ]\n",
      "[0.80077251 0.72512086 0.69396057 0.68356916 0.68094144 0.68045655\n",
      " 0.68039228 0.6803862  0.68038578 0.         0.         0.\n",
      " 0.         0.         0.         0.         0.         0.\n",
      " 0.         0.         0.         0.         0.         0.\n",
      " 0.         0.         0.         0.         0.         0.\n",
      " 0.         0.         0.         0.         0.         0.\n",
      " 0.         0.         0.         0.        ]\n",
      "[0.80077251 0.72512086 0.69396057 0.68356916 0.68094144 0.68045655\n",
      " 0.68039228 0.6803862  0.68038578 0.68038576 0.         0.\n",
      " 0.         0.         0.         0.         0.         0.\n",
      " 0.         0.         0.         0.         0.         0.\n",
      " 0.         0.         0.         0.         0.         0.\n",
      " 0.         0.         0.         0.         0.         0.\n",
      " 0.         0.         0.         0.        ]\n",
      "[0.80077251 0.72512086 0.69396057 0.68356916 0.68094144 0.68045655\n",
      " 0.68039228 0.6803862  0.68038578 0.68038576 0.68038576 0.\n",
      " 0.         0.         0.         0.         0.         0.\n",
      " 0.         0.         0.         0.         0.         0.\n",
      " 0.         0.         0.         0.         0.         0.\n",
      " 0.         0.         0.         0.         0.         0.\n",
      " 0.         0.         0.         0.        ]\n",
      "[0.80077251 0.72512086 0.69396057 0.68356916 0.68094144 0.68045655\n",
      " 0.68039228 0.6803862  0.68038578 0.68038576 0.68038576 0.68038576\n",
      " 0.         0.         0.         0.         0.         0.\n",
      " 0.         0.         0.         0.         0.         0.\n",
      " 0.         0.         0.         0.         0.         0.\n",
      " 0.         0.         0.         0.         0.         0.\n",
      " 0.         0.         0.         0.        ]\n",
      "[0.80077251 0.72512086 0.69396057 0.68356916 0.68094144 0.68045655\n",
      " 0.68039228 0.6803862  0.68038578 0.68038576 0.68038576 0.68038576\n",
      " 0.68038576 0.         0.         0.         0.         0.\n",
      " 0.         0.         0.         0.         0.         0.\n",
      " 0.         0.         0.         0.         0.         0.\n",
      " 0.         0.         0.         0.         0.         0.\n",
      " 0.         0.         0.         0.        ]\n",
      "[0.80077251 0.72512086 0.69396057 0.68356916 0.68094144 0.68045655\n",
      " 0.68039228 0.6803862  0.68038578 0.68038576 0.68038576 0.68038576\n",
      " 0.68038576 0.68038576 0.         0.         0.         0.\n",
      " 0.         0.         0.         0.         0.         0.\n",
      " 0.         0.         0.         0.         0.         0.\n",
      " 0.         0.         0.         0.         0.         0.\n",
      " 0.         0.         0.         0.        ]\n",
      "[0.80077251 0.72512086 0.69396057 0.68356916 0.68094144 0.68045655\n",
      " 0.68039228 0.6803862  0.68038578 0.68038576 0.68038576 0.68038576\n",
      " 0.68038576 0.68038576 0.68038576 0.         0.         0.\n",
      " 0.         0.         0.         0.         0.         0.\n",
      " 0.         0.         0.         0.         0.         0.\n",
      " 0.         0.         0.         0.         0.         0.\n",
      " 0.         0.         0.         0.        ]\n",
      "[0.80077251 0.72512086 0.69396057 0.68356916 0.68094144 0.68045655\n",
      " 0.68039228 0.6803862  0.68038578 0.68038576 0.68038576 0.68038576\n",
      " 0.68038576 0.68038576 0.68038576 0.68038576 0.         0.\n",
      " 0.         0.         0.         0.         0.         0.\n",
      " 0.         0.         0.         0.         0.         0.\n",
      " 0.         0.         0.         0.         0.         0.\n",
      " 0.         0.         0.         0.        ]\n",
      "[0.80077251 0.72512086 0.69396057 0.68356916 0.68094144 0.68045655\n",
      " 0.68039228 0.6803862  0.68038578 0.68038576 0.68038576 0.68038576\n",
      " 0.68038576 0.68038576 0.68038576 0.68038576 0.68038576 0.\n",
      " 0.         0.         0.         0.         0.         0.\n",
      " 0.         0.         0.         0.         0.         0.\n",
      " 0.         0.         0.         0.         0.         0.\n",
      " 0.         0.         0.         0.        ]\n",
      "[0.80077251 0.72512086 0.69396057 0.68356916 0.68094144 0.68045655\n",
      " 0.68039228 0.6803862  0.68038578 0.68038576 0.68038576 0.68038576\n",
      " 0.68038576 0.68038576 0.68038576 0.68038576 0.68038576 0.68038576\n",
      " 0.         0.         0.         0.         0.         0.\n",
      " 0.         0.         0.         0.         0.         0.\n",
      " 0.         0.         0.         0.         0.         0.\n",
      " 0.         0.         0.         0.        ]\n",
      "[0.80077251 0.72512086 0.69396057 0.68356916 0.68094144 0.68045655\n",
      " 0.68039228 0.6803862  0.68038578 0.68038576 0.68038576 0.68038576\n",
      " 0.68038576 0.68038576 0.68038576 0.68038576 0.68038576 0.68038576\n",
      " 0.68038576 0.         0.         0.         0.         0.\n",
      " 0.         0.         0.         0.         0.         0.\n",
      " 0.         0.         0.         0.         0.         0.\n",
      " 0.         0.         0.         0.        ]\n",
      "[0.80077251 0.72512086 0.69396057 0.68356916 0.68094144 0.68045655\n",
      " 0.68039228 0.6803862  0.68038578 0.68038576 0.68038576 0.68038576\n",
      " 0.68038576 0.68038576 0.68038576 0.68038576 0.68038576 0.68038576\n",
      " 0.68038576 0.68038576 0.         0.         0.         0.\n",
      " 0.         0.         0.         0.         0.         0.\n",
      " 0.         0.         0.         0.         0.         0.\n",
      " 0.         0.         0.         0.        ]\n",
      "[0.80077251 0.72512086 0.69396057 0.68356916 0.68094144 0.68045655\n",
      " 0.68039228 0.6803862  0.68038578 0.68038576 0.68038576 0.68038576\n",
      " 0.68038576 0.68038576 0.68038576 0.68038576 0.68038576 0.68038576\n",
      " 0.68038576 0.68038576 0.68038576 0.         0.         0.\n",
      " 0.         0.         0.         0.         0.         0.\n",
      " 0.         0.         0.         0.         0.         0.\n",
      " 0.         0.         0.         0.        ]\n",
      "[0.80077251 0.72512086 0.69396057 0.68356916 0.68094144 0.68045655\n",
      " 0.68039228 0.6803862  0.68038578 0.68038576 0.68038576 0.68038576\n",
      " 0.68038576 0.68038576 0.68038576 0.68038576 0.68038576 0.68038576\n",
      " 0.68038576 0.68038576 0.68038576 0.68038576 0.         0.\n",
      " 0.         0.         0.         0.         0.         0.\n",
      " 0.         0.         0.         0.         0.         0.\n",
      " 0.         0.         0.         0.        ]\n",
      "[0.80077251 0.72512086 0.69396057 0.68356916 0.68094144 0.68045655\n",
      " 0.68039228 0.6803862  0.68038578 0.68038576 0.68038576 0.68038576\n",
      " 0.68038576 0.68038576 0.68038576 0.68038576 0.68038576 0.68038576\n",
      " 0.68038576 0.68038576 0.68038576 0.68038576 0.68038576 0.\n",
      " 0.         0.         0.         0.         0.         0.\n",
      " 0.         0.         0.         0.         0.         0.\n",
      " 0.         0.         0.         0.        ]\n",
      "[0.80077251 0.72512086 0.69396057 0.68356916 0.68094144 0.68045655\n",
      " 0.68039228 0.6803862  0.68038578 0.68038576 0.68038576 0.68038576\n",
      " 0.68038576 0.68038576 0.68038576 0.68038576 0.68038576 0.68038576\n",
      " 0.68038576 0.68038576 0.68038576 0.68038576 0.68038576 0.68038576\n",
      " 0.         0.         0.         0.         0.         0.\n",
      " 0.         0.         0.         0.         0.         0.\n",
      " 0.         0.         0.         0.        ]\n",
      "[0.80077251 0.72512086 0.69396057 0.68356916 0.68094144 0.68045655\n",
      " 0.68039228 0.6803862  0.68038578 0.68038576 0.68038576 0.68038576\n",
      " 0.68038576 0.68038576 0.68038576 0.68038576 0.68038576 0.68038576\n",
      " 0.68038576 0.68038576 0.68038576 0.68038576 0.68038576 0.68038576\n",
      " 0.68038576 0.         0.         0.         0.         0.\n",
      " 0.         0.         0.         0.         0.         0.\n",
      " 0.         0.         0.         0.        ]\n",
      "[0.80077251 0.72512086 0.69396057 0.68356916 0.68094144 0.68045655\n",
      " 0.68039228 0.6803862  0.68038578 0.68038576 0.68038576 0.68038576\n",
      " 0.68038576 0.68038576 0.68038576 0.68038576 0.68038576 0.68038576\n",
      " 0.68038576 0.68038576 0.68038576 0.68038576 0.68038576 0.68038576\n",
      " 0.68038576 0.68038576 0.         0.         0.         0.\n",
      " 0.         0.         0.         0.         0.         0.\n",
      " 0.         0.         0.         0.        ]\n",
      "[0.80077251 0.72512086 0.69396057 0.68356916 0.68094144 0.68045655\n",
      " 0.68039228 0.6803862  0.68038578 0.68038576 0.68038576 0.68038576\n",
      " 0.68038576 0.68038576 0.68038576 0.68038576 0.68038576 0.68038576\n",
      " 0.68038576 0.68038576 0.68038576 0.68038576 0.68038576 0.68038576\n",
      " 0.68038576 0.68038576 0.68038576 0.         0.         0.\n",
      " 0.         0.         0.         0.         0.         0.\n",
      " 0.         0.         0.         0.        ]\n",
      "[0.80077251 0.72512086 0.69396057 0.68356916 0.68094144 0.68045655\n",
      " 0.68039228 0.6803862  0.68038578 0.68038576 0.68038576 0.68038576\n",
      " 0.68038576 0.68038576 0.68038576 0.68038576 0.68038576 0.68038576\n",
      " 0.68038576 0.68038576 0.68038576 0.68038576 0.68038576 0.68038576\n",
      " 0.68038576 0.68038576 0.68038576 0.68038576 0.         0.\n",
      " 0.         0.         0.         0.         0.         0.\n",
      " 0.         0.         0.         0.        ]\n",
      "[0.80077251 0.72512086 0.69396057 0.68356916 0.68094144 0.68045655\n",
      " 0.68039228 0.6803862  0.68038578 0.68038576 0.68038576 0.68038576\n",
      " 0.68038576 0.68038576 0.68038576 0.68038576 0.68038576 0.68038576\n",
      " 0.68038576 0.68038576 0.68038576 0.68038576 0.68038576 0.68038576\n",
      " 0.68038576 0.68038576 0.68038576 0.68038576 0.68038576 0.\n",
      " 0.         0.         0.         0.         0.         0.\n",
      " 0.         0.         0.         0.        ]\n",
      "[0.80077251 0.72512086 0.69396057 0.68356916 0.68094144 0.68045655\n",
      " 0.68039228 0.6803862  0.68038578 0.68038576 0.68038576 0.68038576\n",
      " 0.68038576 0.68038576 0.68038576 0.68038576 0.68038576 0.68038576\n",
      " 0.68038576 0.68038576 0.68038576 0.68038576 0.68038576 0.68038576\n",
      " 0.68038576 0.68038576 0.68038576 0.68038576 0.68038576 0.68038576\n",
      " 0.         0.         0.         0.         0.         0.\n",
      " 0.         0.         0.         0.        ]\n",
      "[0.80077251 0.72512086 0.69396057 0.68356916 0.68094144 0.68045655\n",
      " 0.68039228 0.6803862  0.68038578 0.68038576 0.68038576 0.68038576\n",
      " 0.68038576 0.68038576 0.68038576 0.68038576 0.68038576 0.68038576\n",
      " 0.68038576 0.68038576 0.68038576 0.68038576 0.68038576 0.68038576\n",
      " 0.68038576 0.68038576 0.68038576 0.68038576 0.68038576 0.68038576\n",
      " 0.68038578 0.         0.         0.         0.         0.\n",
      " 0.         0.         0.         0.        ]\n",
      "[0.80077251 0.72512086 0.69396057 0.68356916 0.68094144 0.68045655\n",
      " 0.68039228 0.6803862  0.68038578 0.68038576 0.68038576 0.68038576\n",
      " 0.68038576 0.68038576 0.68038576 0.68038576 0.68038576 0.68038576\n",
      " 0.68038576 0.68038576 0.68038576 0.68038576 0.68038576 0.68038576\n",
      " 0.68038576 0.68038576 0.68038576 0.68038576 0.68038576 0.68038576\n",
      " 0.68038578 0.6803862  0.         0.         0.         0.\n",
      " 0.         0.         0.         0.        ]\n",
      "[0.80077251 0.72512086 0.69396057 0.68356916 0.68094144 0.68045655\n",
      " 0.68039228 0.6803862  0.68038578 0.68038576 0.68038576 0.68038576\n",
      " 0.68038576 0.68038576 0.68038576 0.68038576 0.68038576 0.68038576\n",
      " 0.68038576 0.68038576 0.68038576 0.68038576 0.68038576 0.68038576\n",
      " 0.68038576 0.68038576 0.68038576 0.68038576 0.68038576 0.68038576\n",
      " 0.68038578 0.6803862  0.68039228 0.         0.         0.\n",
      " 0.         0.         0.         0.        ]\n",
      "[0.80077251 0.72512086 0.69396057 0.68356916 0.68094144 0.68045655\n",
      " 0.68039228 0.6803862  0.68038578 0.68038576 0.68038576 0.68038576\n",
      " 0.68038576 0.68038576 0.68038576 0.68038576 0.68038576 0.68038576\n",
      " 0.68038576 0.68038576 0.68038576 0.68038576 0.68038576 0.68038576\n",
      " 0.68038576 0.68038576 0.68038576 0.68038576 0.68038576 0.68038576\n",
      " 0.68038578 0.6803862  0.68039228 0.68045655 0.         0.\n",
      " 0.         0.         0.         0.        ]\n",
      "[0.80077251 0.72512086 0.69396057 0.68356916 0.68094144 0.68045655\n",
      " 0.68039228 0.6803862  0.68038578 0.68038576 0.68038576 0.68038576\n",
      " 0.68038576 0.68038576 0.68038576 0.68038576 0.68038576 0.68038576\n",
      " 0.68038576 0.68038576 0.68038576 0.68038576 0.68038576 0.68038576\n",
      " 0.68038576 0.68038576 0.68038576 0.68038576 0.68038576 0.68038576\n",
      " 0.68038578 0.6803862  0.68039228 0.68045655 0.68094144 0.\n",
      " 0.         0.         0.         0.        ]\n",
      "[0.80077251 0.72512086 0.69396057 0.68356916 0.68094144 0.68045655\n",
      " 0.68039228 0.6803862  0.68038578 0.68038576 0.68038576 0.68038576\n",
      " 0.68038576 0.68038576 0.68038576 0.68038576 0.68038576 0.68038576\n",
      " 0.68038576 0.68038576 0.68038576 0.68038576 0.68038576 0.68038576\n",
      " 0.68038576 0.68038576 0.68038576 0.68038576 0.68038576 0.68038576\n",
      " 0.68038578 0.6803862  0.68039228 0.68045655 0.68094144 0.68356916\n",
      " 0.         0.         0.         0.        ]\n",
      "[0.80077251 0.72512086 0.69396057 0.68356916 0.68094144 0.68045655\n",
      " 0.68039228 0.6803862  0.68038578 0.68038576 0.68038576 0.68038576\n",
      " 0.68038576 0.68038576 0.68038576 0.68038576 0.68038576 0.68038576\n",
      " 0.68038576 0.68038576 0.68038576 0.68038576 0.68038576 0.68038576\n",
      " 0.68038576 0.68038576 0.68038576 0.68038576 0.68038576 0.68038576\n",
      " 0.68038578 0.6803862  0.68039228 0.68045655 0.68094144 0.68356916\n",
      " 0.69396057 0.         0.         0.        ]\n",
      "[0.80077251 0.72512086 0.69396057 0.68356916 0.68094144 0.68045655\n",
      " 0.68039228 0.6803862  0.68038578 0.68038576 0.68038576 0.68038576\n",
      " 0.68038576 0.68038576 0.68038576 0.68038576 0.68038576 0.68038576\n",
      " 0.68038576 0.68038576 0.68038576 0.68038576 0.68038576 0.68038576\n",
      " 0.68038576 0.68038576 0.68038576 0.68038576 0.68038576 0.68038576\n",
      " 0.68038578 0.6803862  0.68039228 0.68045655 0.68094144 0.68356916\n",
      " 0.69396057 0.72512086 0.         0.        ]\n",
      "[0.80077251 0.72512086 0.69396057 0.68356916 0.68094144 0.68045655\n",
      " 0.68039228 0.6803862  0.68038578 0.68038576 0.68038576 0.68038576\n",
      " 0.68038576 0.68038576 0.68038576 0.68038576 0.68038576 0.68038576\n",
      " 0.68038576 0.68038576 0.68038576 0.68038576 0.68038576 0.68038576\n",
      " 0.68038576 0.68038576 0.68038576 0.68038576 0.68038576 0.68038576\n",
      " 0.68038578 0.6803862  0.68039228 0.68045655 0.68094144 0.68356916\n",
      " 0.69396057 0.72512086 0.80077251 0.        ]\n",
      "[0.80077251 0.72512086 0.69396057 0.68356916 0.68094144 0.68045655\n",
      " 0.68039228 0.6803862  0.68038578 0.68038576 0.68038576 0.68038576\n",
      " 0.68038576 0.68038576 0.68038576 0.68038576 0.68038576 0.68038576\n",
      " 0.68038576 0.68038576 0.68038576 0.68038576 0.68038576 0.68038576\n",
      " 0.68038576 0.68038576 0.68038576 0.68038576 0.68038576 0.68038576\n",
      " 0.68038578 0.6803862  0.68039228 0.68045655 0.68094144 0.68356916\n",
      " 0.69396057 0.72512086 0.80077251 0.96221077]\n"
     ]
    }
   ],
   "source": [
    "#Offline computation\n",
    "\n",
    "\n",
    "\n",
    "\n",
    "theta_array = np.zeros((d,d),float)\n",
    "# Theta = np.zeros(d,d)\n",
    "weight_array = np.zeros(d)\n",
    "for a_ii in range(d):\n",
    "    #step 0\n",
    "    e = np.zeros((d,1),dtype=float)\n",
    "    e[a_ii] = 1\n",
    "    #step 1\n",
    "    phi_i = pywt.idwt(e,None,wavelet='db1')[:,0]\n",
    "    #step 2\n",
    "    theta_i = fun_conv(h,phi_i)\n",
    "    theta_array[:,a_ii] = theta_i\n",
    "    # Theta[:,i] = theta_i\n",
    "    #step 3\n",
    "    weight_i = 1/np.linalg.norm(theta_i)\n",
    "    weight_array[a_ii] = weight_i\n",
    "    print(weight_array)\n",
    "\n",
    "# i_theta = 0\n",
    "# plt.imshow(theta_array[:,i_theta*d:i_theta*d+d])\n",
    "# plt.show()\n",
    "# print(theta_array[:,i_theta*d:i_theta*d+d].shape)\n"
   ]
  },
  {
   "cell_type": "markdown",
   "metadata": {},
   "source": [
    "Output vector x"
   ]
  },
  {
   "cell_type": "code",
   "execution_count": 6,
   "metadata": {},
   "outputs": [
    {
     "data": {
      "image/png": "[encoded data removed]",
      "text/plain": [
       "<Figure size 432x288 with 1 Axes>"
      ]
     },
     "metadata": {
      "needs_background": "light"
     },
     "output_type": "display_data"
    },
    {
     "data": {
      "image/png": "[encoded data removed]",
      "text/plain": [
       "<Figure size 432x288 with 1 Axes>"
      ]
     },
     "metadata": {
      "needs_background": "light"
     },
     "output_type": "display_data"
    }
   ],
   "source": [
    "a_2 = (a_real*np.ones((1,d))).T\n",
    "x = pywt.idwt(a_2,None,wavelet='db1')\n",
    "y = fun_conv(h,x[:,0])\n",
    "imshowarray(y)\n",
    "plt.show()\n",
    "\n",
    "a_recover = pywt.dwt(x,wavelet='db1')[0]\n",
    "plt.plot(range(d),a_real,'o')\n",
    "plt.plot(range(d),a_recover,'k+')\n",
    "\n",
    "plt.title('a')\n",
    "plt.show()"
   ]
  },
  {
   "cell_type": "markdown",
   "metadata": {},
   "source": [
    "MP loop"
   ]
  },
  {
   "cell_type": "code",
   "execution_count": 7,
   "metadata": {},
   "outputs": [
    {
     "name": "stdout",
     "output_type": "stream",
     "text": [
      "<r_(k+1),Θ_i*> = 0.0, ans: -5.176456568687445e-16\n",
      "<r_(k+1),Θ_i*> = 0.0, ans: 1.192622389734055e-16\n",
      "<r_(k+1),Θ_i*> = 0.0, ans: 6.844059631911494e-17\n",
      "<r_(k+1),Θ_i*> = 0.0, ans: -1.5238638964525157e-16\n"
     ]
    },
    {
     "data": {
      "image/png": "[encoded data removed]",
      "text/plain": [
       "<Figure size 1080x720 with 4 Axes>"
      ]
     },
     "metadata": {
      "needs_background": "light"
     },
     "output_type": "display_data"
    }
   ],
   "source": [
    "r = y\n",
    "a = a_real*0\n",
    "k = 0\n",
    "s = 4\n",
    "plotting_product = np.array([])\n",
    "plotting_residue = np.array([])\n",
    "\n",
    "while (k<s):\n",
    "    #atom selection\n",
    "    arg2max_array = np.zeros(d)\n",
    "    for i in range(d):\n",
    "        arg2max = abs(theta_array[:,i:i+1].T@r*weight_array[i])\n",
    "        # arg2max = abs(weight_array* fun_conv(h,pywt.wavedec(r)))\n",
    "        arg2max_array[i] = arg2max\n",
    "\n",
    "    i_star, = np.where(arg2max_array==np.amax(arg2max_array))\n",
    "    i_star = int(i_star)\n",
    "    c = theta_array[:,i_star].T@r*weight_array[i_star]\n",
    "\n",
    "    #coef. update\n",
    "    e = a*0\n",
    "    e[i_star]=1\n",
    "    a = a + c*e\n",
    "\n",
    "    #residual update\n",
    "    r = r - c*theta_array[:,i_star]*weight_array[i_star]\n",
    "    print('<r_(k+1),Θ_i*> = 0.0, ans:',float(r.T@theta_array[:,i_star]))\n",
    "    \n",
    "\n",
    "    #plotting elements\n",
    "    plotting_product = np.append(plotting_product,arg2max_array[i_star])\n",
    "    plotting_residue = np.append(plotting_residue,np.linalg.norm(r))\n",
    "\n",
    "    k += 1\n",
    "    \n",
    "    # print(np.amax(arg2max_array[0,:]))\n",
    "    # plt.bar(range(d),arg2max_array[0,:])\n",
    "    # plt.show()\n",
    "    # plt.bar(range(d),a[:,0])\n",
    "    # plt.show()\n",
    "\n",
    "fig = plt.figure(figsize=(15,10))\n",
    "\n",
    "fig.add_subplot(2, 2, 1)\n",
    "plt.bar(range(d), a, width=1, label='a_estimated')\n",
    "plt.bar(range(d), a_real, width=0.5, label='a_real')\n",
    "plt.title('a')\n",
    "plt.legend()\n",
    "\n",
    "fig.add_subplot(2, 2, 2)\n",
    "plt.bar(range(d),r)\n",
    "plt.title('residual')\n",
    "\n",
    "fig.add_subplot(2, 2, 3)\n",
    "plt.plot(plotting_product,'o-')\n",
    "plt.title('product convergence')\n",
    "\n",
    "fig.add_subplot(2, 2, 4)\n",
    "plt.plot(plotting_residue,'o-')\n",
    "plt.title('residual convergence')\n",
    "plt.show()"
   ]
  },
  {
   "cell_type": "code",
   "execution_count": 8,
   "metadata": {},
   "outputs": [],
   "source": [
    "arg2max = abs(theta_array[:,i].T@r*weight_array[i])\n"
   ]
  }
 ],
 "metadata": {
  "interpreter": {
   "hash": "3efeaf8f12deeee38dec9f04e0b4bdf2695ae390c5ccbfd78431e919e9e4d08d"
  },
  "kernelspec": {
   "display_name": "Python 3.9.10 64-bit",
   "language": "python",
   "name": "python3"
  },
  "language_info": {
   "codemirror_mode": {
    "name": "ipython",
    "version": 3
   },
   "file_extension": ".py",
   "mimetype": "text/x-python",
   "name": "python",
   "nbconvert_exporter": "python",
   "pygments_lexer": "ipython3",
   "version": "3.9.10"
  },
  "orig_nbformat": 4
 },
 "nbformat": 4,
 "nbformat_minor": 2
}
