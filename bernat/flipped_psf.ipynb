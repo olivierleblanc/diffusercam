{
 "cells": [
  {
   "cell_type": "markdown",
   "metadata": {},
   "source": [
    "# FLIPPED PSF"
   ]
  },
  {
   "cell_type": "markdown",
   "metadata": {},
   "source": [
    "We will convolute the image of the caustics obtained by two leds with the PSF'. The PSF' is the image of the PSF where you flip the left and the right, and the top and the bottom.   "
   ]
  },
  {
   "cell_type": "code",
   "execution_count": 1,
   "metadata": {},
   "outputs": [],
   "source": [
    "import matplotlib.pyplot as plt\n",
    "import matplotlib.image as mpimg\n",
    "import numpy as np\n",
    "import math\n",
    "from scipy import signal\n",
    "from PIL import Image"
   ]
  },
  {
   "cell_type": "markdown",
   "metadata": {},
   "source": [
    "We upload the two leds image and convert it to an array"
   ]
  },
  {
   "cell_type": "code",
   "execution_count": 2,
   "metadata": {},
   "outputs": [
    {
     "name": "stdout",
     "output_type": "stream",
     "text": [
      "(3280, 2464)\n",
      "(820, 616)\n",
      "(616, 820)\n",
      "820\n",
      "616\n",
      "i0(t) imported and reduced correctly!\n"
     ]
    }
   ],
   "source": [
    "i0 = Image.open('images/i0_0001.jpg')\n",
    "realsize=i0.size\n",
    "print(realsize)\n",
    "factor=4\n",
    "newsize=tuple(int(ti/factor) for ti in realsize)\n",
    "print(newsize)\n",
    "i0=i0.resize(newsize,Image.ANTIALIAS)\n",
    "i0 = np.array(i0)\n",
    "i0 = i0[:, :, 0] #For instance, at point (100,50) we had [0.608, 0.608, 0.608]. Now only have a single 0.608 value.\n",
    "print(i0.shape) #[Y,X]\n",
    "print('i0(t) imported and reduced correctly!')"
   ]
  },
  {
   "cell_type": "markdown",
   "metadata": {},
   "source": [
    "We upload the filter (PSF) and convert it to an array. Finally, we flip it."
   ]
  },
  {
   "cell_type": "code",
   "execution_count": 6,
   "metadata": {},
   "outputs": [
    {
     "name": "stdout",
     "output_type": "stream",
     "text": [
      "(3280, 2464)\n",
      "(820, 616)\n",
      "(616, 820)\n",
      "820\n",
      "616\n",
      "h(t) imported and reduced correctly!\n",
      "Flipped!\n"
     ]
    }
   ],
   "source": [
    "h = Image.open('images/h_0001.jpg')\n",
    "realsize=h.size\n",
    "print(realsize)\n",
    "factor=4\n",
    "newsize=tuple(int(ti/factor) for ti in realsize)\n",
    "print(newsize)\n",
    "h=h.resize(newsize,Image.ANTIALIAS)\n",
    "h = np.array(h)\n",
    "h = h[:, :, 0] #For instance, at point (100,50) we had [0.608, 0.608, 0.608]. Now only have a single 0.608 value.\n",
    "size_x = len(h[0])\n",
    "size_y = len(h)\n",
    "print(h.shape) #[Y,X]\n",
    "print(size_x)\n",
    "print(size_y)\n",
    "print('h(t) imported and reduced correctly!')\n",
    "\n",
    "# FLIP:\n",
    "hf = np.flip(h, axis=None)\n",
    "print(\"Flipped!\")\n",
    "\n",
    "# # Plotting\n",
    "# fig = plt.figure()\n",
    "\n",
    "# ax = fig.add_subplot(1, 2, 1)\n",
    "# plt.imshow(h, cmap='gray')\n",
    "# plt.title('h(t)')\n",
    "\n",
    "# ax = fig.add_subplot(1, 2, 2)\n",
    "# plt.imshow(hf, cmap='gray')\n",
    "# plt.title('x(t)')\n",
    "\n",
    "# plt.show()"
   ]
  },
  {
   "cell_type": "markdown",
   "metadata": {},
   "source": [
    "Since everything is correctly loaded, we compute the convolution."
   ]
  },
  {
   "cell_type": "code",
   "execution_count": 8,
   "metadata": {},
   "outputs": [
    {
     "data": {
      "image/png": "[encoded data removed]",
      "text/plain": [
       "<Figure size 432x288 with 3 Axes>"
      ]
     },
     "metadata": {
      "needs_background": "light"
     },
     "output_type": "display_data"
    }
   ],
   "source": [
    "i_s_full=signal.fftconvolve(i0, h,mode='full') #We filter it with h(t)\n",
    "i_s_valid=signal.fftconvolve(i0, h,mode='valid') #We filter it with h(t)\n",
    "i_s_same=signal.fftconvolve(i0, h,mode='same') #We filter it with h(t)\n",
    "\n",
    "# Plotting\n",
    "fig = plt.figure()\n",
    "\n",
    "ax = fig.add_subplot(1, 3, 1)\n",
    "plt.imshow(i_s_full, cmap='gray')\n",
    "plt.title('full')\n",
    "\n",
    "ax = fig.add_subplot(1, 3, 2)\n",
    "plt.imshow(i_s_valid, cmap='gray')\n",
    "plt.title('valid')\n",
    "\n",
    "ax = fig.add_subplot(1, 3, 3)\n",
    "plt.imshow(i_s_same, cmap='gray')\n",
    "plt.title('same')\n",
    "\n",
    "plt.show()"
   ]
  },
  {
   "cell_type": "code",
   "execution_count": 11,
   "metadata": {},
   "outputs": [
    {
     "name": "stdout",
     "output_type": "stream",
     "text": [
      "(1231, 1639)\n",
      "(616, 820)\n",
      "(616, 820)\n"
     ]
    }
   ],
   "source": [
    "print(i_s_full.shape)\n",
    "print(i_s_same.shape)\n",
    "print(h.shape)"
   ]
  },
  {
   "cell_type": "code",
   "execution_count": 12,
   "metadata": {},
   "outputs": [
    {
     "name": "stdout",
     "output_type": "stream",
     "text": [
      "[[9.21770669e+09]]\n"
     ]
    }
   ],
   "source": [
    "print(i_s_valid)"
   ]
  }
 ],
 "metadata": {
  "interpreter": {
   "hash": "3efeaf8f12deeee38dec9f04e0b4bdf2695ae390c5ccbfd78431e919e9e4d08d"
  },
  "kernelspec": {
   "display_name": "Python 3.9.10 64-bit",
   "language": "python",
   "name": "python3"
  },
  "language_info": {
   "codemirror_mode": {
    "name": "ipython",
    "version": 3
   },
   "file_extension": ".py",
   "mimetype": "text/x-python",
   "name": "python",
   "nbconvert_exporter": "python",
   "pygments_lexer": "ipython3",
   "version": "3.9.10"
  },
  "orig_nbformat": 4
 },
 "nbformat": 4,
 "nbformat_minor": 2
}
