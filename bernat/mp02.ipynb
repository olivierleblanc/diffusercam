{
 "cells": [
  {
   "cell_type": "markdown",
   "metadata": {},
   "source": [
    "# Matching Pursuit: 1D"
   ]
  },
  {
   "cell_type": "code",
   "execution_count": 2,
   "metadata": {},
   "outputs": [],
   "source": [
    "import matplotlib.pyplot as plt\n",
    "import matplotlib.image as mpimg\n",
    "import numpy as np\n",
    "import math\n",
    "from skimage import draw\n",
    "from scipy import signal\n",
    "from PIL import Image"
   ]
  },
  {
   "cell_type": "markdown",
   "metadata": {},
   "source": [
    "First, we generate x vector and A matrix. x vector is the original 'image' and A represents the caustics"
   ]
  },
  {
   "cell_type": "code",
   "execution_count": 181,
   "metadata": {},
   "outputs": [
    {
     "name": "stdout",
     "output_type": "stream",
     "text": [
      "m = 15\n"
     ]
    },
    {
     "data": {
      "image/png": "[encoded data removed]",
      "text/plain": [
       "<Figure size 432x288 with 1 Axes>"
      ]
     },
     "metadata": {
      "needs_background": "light"
     },
     "output_type": "display_data"
    },
    {
     "data": {
      "image/png": "[encoded data removed]",
      "text/plain": [
       "<Figure size 432x288 with 1 Axes>"
      ]
     },
     "metadata": {
      "needs_background": "light"
     },
     "output_type": "display_data"
    }
   ],
   "source": [
    "#x\n",
    "x = np.array([0,0,3,2,0,1,0,8,0,0,0,4,0,7,6],dtype=float)\n",
    "# x = np.array([[0],[0],[3],[2],[0],[1],[0],[8],[0],[0],[0],[4],[0],[7],[6]])\n",
    "m = len(x)\n",
    "print('m =',m)\n",
    "\n",
    "plt.stairs(x)\n",
    "plt.show()\n",
    "\n",
    "#A: I want to be a Normal random distribution bewtween 0 and 2\n",
    "np.random.seed(42)\n",
    "A = np.random.randn(9,15)\n",
    "A -= np.amin(A)\n",
    "A /= np.amax(A)/2\n",
    "\n",
    "plt.imshow(A, cmap='gray')\n",
    "plt.show()"
   ]
  },
  {
   "cell_type": "code",
   "execution_count": 182,
   "metadata": {},
   "outputs": [
    {
     "data": {
      "image/png": "[encoded data removed]",
      "text/plain": [
       "<Figure size 432x288 with 1 Axes>"
      ]
     },
     "metadata": {
      "needs_background": "light"
     },
     "output_type": "display_data"
    },
    {
     "name": "stdout",
     "output_type": "stream",
     "text": [
      "[26.16617901 28.24561849 20.40713193 33.36410285 33.94514321 37.43270081\n",
      " 27.86129589 36.66604292 30.82821301]\n"
     ]
    }
   ],
   "source": [
    "#y = A*x\n",
    "# y = signal.fftconvolve(A,x,mode='valid')\n",
    "y = np.dot(A,np.transpose(x))\n",
    "\n",
    "plt.stairs(y)\n",
    "plt.show()\n",
    "print(y)"
   ]
  },
  {
   "cell_type": "markdown",
   "metadata": {},
   "source": [
    "Initialization"
   ]
  },
  {
   "cell_type": "code",
   "execution_count": 111,
   "metadata": {},
   "outputs": [
    {
     "name": "stdout",
     "output_type": "stream",
     "text": [
      "[8.]\n"
     ]
    }
   ],
   "source": [
    "# k = 0\n",
    "# x_k = 0\n",
    "# r_0 = y\n",
    "# S_k = np.array([],dtype=float)\n",
    "# OMP = np.array([],dtype=float)\n",
    "\n",
    "# z = 8 #:)\n",
    "\n",
    "# for i in range(m):\n",
    "#     OMP_i = np.linalg.norm(z*A[:,i]-r_0)\n",
    "#     OMP = np.append(OMP,OMP_i)\n",
    "# E_i_k = min(E)\n",
    "# i_k, = np.where(E == E_i_k)\n",
    "# i_k += 1\n",
    "# S_k = np.append(S_k,i_k)\n",
    "# x_k\n",
    "\n",
    "# print(S_k)"
   ]
  },
  {
   "cell_type": "code",
   "execution_count": 179,
   "metadata": {},
   "outputs": [
    {
     "name": "stdout",
     "output_type": "stream",
     "text": [
      "[ 90. 120. 150.]\n"
     ]
    }
   ],
   "source": [
    "aa=np.array([[1,4],[2,5],[3,6]],dtype=float)\n",
    "bb=np.array([10,20],dtype=float)\n",
    "# aaT=np.transpose(aa)\n",
    "cc=np.dot(aa,np.transpose(bb))\n",
    "print(cc)\n",
    "print(size)"
   ]
  },
  {
   "cell_type": "code",
   "execution_count": 203,
   "metadata": {},
   "outputs": [
    {
     "name": "stdout",
     "output_type": "stream",
     "text": [
      "[290.15851166 305.12924928 299.96863351 253.48163429 232.05839018\n",
      " 289.43414059 288.89904953 299.44339057 294.07695421 266.0537705\n",
      " 265.45936938 285.89783507 255.92002251 285.47070747 233.81177016]\n"
     ]
    }
   ],
   "source": [
    "k = 0\n",
    "x_k = 0\n",
    "r_0 = y\n",
    "S_k = np.array([],dtype=float)\n",
    "\n",
    "OMP = abs(np.dot(np.transpose(A),np.transpose(r_0)))\n",
    "i_k, = np.where(OMP == max(OMP))\n",
    "# i_k += 1\n",
    "S_k = np.append(S_k,i_k)\n",
    "x_k = \n",
    "\n",
    "print(OMP)"
   ]
  },
  {
   "cell_type": "code",
   "execution_count": 131,
   "metadata": {},
   "outputs": [
    {
     "name": "stdout",
     "output_type": "stream",
     "text": [
      "[0 0 3 2 0 1 0 8 0 0 0 4 0 7 6]\n"
     ]
    }
   ],
   "source": [
    "x = np.array([0,0,3,2,0,1,0,8,0,0,0,4,0,7,6])\n",
    "print(x)"
   ]
  },
  {
   "cell_type": "code",
   "execution_count": 150,
   "metadata": {},
   "outputs": [
    {
     "name": "stdout",
     "output_type": "stream",
     "text": [
      "[[0 0 3 2 0 1 0 8 0 0 0 4 0 7 6]]\n"
     ]
    },
    {
     "ename": "ValueError",
     "evalue": "too many values to unpack (expected 1)",
     "output_type": "error",
     "traceback": [
      "\u001b[1;31m---------------------------------------------------------------------------\u001b[0m",
      "\u001b[1;31mValueError\u001b[0m                                Traceback (most recent call last)",
      "\u001b[1;32mc:\\Users\\Usuari\\Desktop\\diffusercam\\bernat\\mp02.ipynb Cell 11'\u001b[0m in \u001b[0;36m<module>\u001b[1;34m\u001b[0m\n\u001b[0;32m      <a href='vscode-notebook-cell:/c%3A/Users/Usuari/Desktop/diffusercam/bernat/mp02.ipynb#ch0000016?line=2'>3</a>\u001b[0m \u001b[39mprint\u001b[39m(xT)\n\u001b[0;32m      <a href='vscode-notebook-cell:/c%3A/Users/Usuari/Desktop/diffusercam/bernat/mp02.ipynb#ch0000016?line=3'>4</a>\u001b[0m axis\u001b[39m=\u001b[39mnp\u001b[39m.\u001b[39marray([\u001b[39mrange\u001b[39m(\u001b[39m15\u001b[39m\u001b[39m-\u001b[39m\u001b[39m1\u001b[39m)])\n\u001b[1;32m----> <a href='vscode-notebook-cell:/c%3A/Users/Usuari/Desktop/diffusercam/bernat/mp02.ipynb#ch0000016?line=4'>5</a>\u001b[0m plt\u001b[39m.\u001b[39;49mstairs(axis,xT)\n\u001b[0;32m      <a href='vscode-notebook-cell:/c%3A/Users/Usuari/Desktop/diffusercam/bernat/mp02.ipynb#ch0000016?line=5'>6</a>\u001b[0m plt\u001b[39m.\u001b[39mshow()\n",
      "File \u001b[1;32m~\\AppData\\Local\\Programs\\Python\\Python39\\lib\\site-packages\\matplotlib\\pyplot.py:2603\u001b[0m, in \u001b[0;36mstairs\u001b[1;34m(values, edges, orientation, baseline, fill, data, **kwargs)\u001b[0m\n\u001b[0;32m   <a href='file:///c%3A/Users/Usuari/AppData/Local/Programs/Python/Python39/lib/site-packages/matplotlib/pyplot.py?line=2598'>2599</a>\u001b[0m \u001b[39m@_copy_docstring_and_deprecators\u001b[39m(Axes\u001b[39m.\u001b[39mstairs)\n\u001b[0;32m   <a href='file:///c%3A/Users/Usuari/AppData/Local/Programs/Python/Python39/lib/site-packages/matplotlib/pyplot.py?line=2599'>2600</a>\u001b[0m \u001b[39mdef\u001b[39;00m \u001b[39mstairs\u001b[39m(\n\u001b[0;32m   <a href='file:///c%3A/Users/Usuari/AppData/Local/Programs/Python/Python39/lib/site-packages/matplotlib/pyplot.py?line=2600'>2601</a>\u001b[0m         values, edges\u001b[39m=\u001b[39m\u001b[39mNone\u001b[39;00m, \u001b[39m*\u001b[39m, orientation\u001b[39m=\u001b[39m\u001b[39m'\u001b[39m\u001b[39mvertical\u001b[39m\u001b[39m'\u001b[39m, baseline\u001b[39m=\u001b[39m\u001b[39m0\u001b[39m,\n\u001b[0;32m   <a href='file:///c%3A/Users/Usuari/AppData/Local/Programs/Python/Python39/lib/site-packages/matplotlib/pyplot.py?line=2601'>2602</a>\u001b[0m         fill\u001b[39m=\u001b[39m\u001b[39mFalse\u001b[39;00m, data\u001b[39m=\u001b[39m\u001b[39mNone\u001b[39;00m, \u001b[39m*\u001b[39m\u001b[39m*\u001b[39mkwargs):\n\u001b[1;32m-> <a href='file:///c%3A/Users/Usuari/AppData/Local/Programs/Python/Python39/lib/site-packages/matplotlib/pyplot.py?line=2602'>2603</a>\u001b[0m     \u001b[39mreturn\u001b[39;00m gca()\u001b[39m.\u001b[39mstairs(\n\u001b[0;32m   <a href='file:///c%3A/Users/Usuari/AppData/Local/Programs/Python/Python39/lib/site-packages/matplotlib/pyplot.py?line=2603'>2604</a>\u001b[0m         values, edges\u001b[39m=\u001b[39medges, orientation\u001b[39m=\u001b[39morientation,\n\u001b[0;32m   <a href='file:///c%3A/Users/Usuari/AppData/Local/Programs/Python/Python39/lib/site-packages/matplotlib/pyplot.py?line=2604'>2605</a>\u001b[0m         baseline\u001b[39m=\u001b[39mbaseline, fill\u001b[39m=\u001b[39mfill,\n\u001b[0;32m   <a href='file:///c%3A/Users/Usuari/AppData/Local/Programs/Python/Python39/lib/site-packages/matplotlib/pyplot.py?line=2605'>2606</a>\u001b[0m         \u001b[39m*\u001b[39m\u001b[39m*\u001b[39m({\u001b[39m\"\u001b[39m\u001b[39mdata\u001b[39m\u001b[39m\"\u001b[39m: data} \u001b[39mif\u001b[39;00m data \u001b[39mis\u001b[39;00m \u001b[39mnot\u001b[39;00m \u001b[39mNone\u001b[39;00m \u001b[39melse\u001b[39;00m {}), \u001b[39m*\u001b[39m\u001b[39m*\u001b[39mkwargs)\n",
      "File \u001b[1;32m~\\AppData\\Local\\Programs\\Python\\Python39\\lib\\site-packages\\matplotlib\\__init__.py:1412\u001b[0m, in \u001b[0;36m_preprocess_data.<locals>.inner\u001b[1;34m(ax, data, *args, **kwargs)\u001b[0m\n\u001b[0;32m   <a href='file:///c%3A/Users/Usuari/AppData/Local/Programs/Python/Python39/lib/site-packages/matplotlib/__init__.py?line=1408'>1409</a>\u001b[0m \u001b[39m@functools\u001b[39m\u001b[39m.\u001b[39mwraps(func)\n\u001b[0;32m   <a href='file:///c%3A/Users/Usuari/AppData/Local/Programs/Python/Python39/lib/site-packages/matplotlib/__init__.py?line=1409'>1410</a>\u001b[0m \u001b[39mdef\u001b[39;00m \u001b[39minner\u001b[39m(ax, \u001b[39m*\u001b[39margs, data\u001b[39m=\u001b[39m\u001b[39mNone\u001b[39;00m, \u001b[39m*\u001b[39m\u001b[39m*\u001b[39mkwargs):\n\u001b[0;32m   <a href='file:///c%3A/Users/Usuari/AppData/Local/Programs/Python/Python39/lib/site-packages/matplotlib/__init__.py?line=1410'>1411</a>\u001b[0m     \u001b[39mif\u001b[39;00m data \u001b[39mis\u001b[39;00m \u001b[39mNone\u001b[39;00m:\n\u001b[1;32m-> <a href='file:///c%3A/Users/Usuari/AppData/Local/Programs/Python/Python39/lib/site-packages/matplotlib/__init__.py?line=1411'>1412</a>\u001b[0m         \u001b[39mreturn\u001b[39;00m func(ax, \u001b[39m*\u001b[39m\u001b[39mmap\u001b[39m(sanitize_sequence, args), \u001b[39m*\u001b[39m\u001b[39m*\u001b[39mkwargs)\n\u001b[0;32m   <a href='file:///c%3A/Users/Usuari/AppData/Local/Programs/Python/Python39/lib/site-packages/matplotlib/__init__.py?line=1413'>1414</a>\u001b[0m     bound \u001b[39m=\u001b[39m new_sig\u001b[39m.\u001b[39mbind(ax, \u001b[39m*\u001b[39margs, \u001b[39m*\u001b[39m\u001b[39m*\u001b[39mkwargs)\n\u001b[0;32m   <a href='file:///c%3A/Users/Usuari/AppData/Local/Programs/Python/Python39/lib/site-packages/matplotlib/__init__.py?line=1414'>1415</a>\u001b[0m     auto_label \u001b[39m=\u001b[39m (bound\u001b[39m.\u001b[39marguments\u001b[39m.\u001b[39mget(label_namer)\n\u001b[0;32m   <a href='file:///c%3A/Users/Usuari/AppData/Local/Programs/Python/Python39/lib/site-packages/matplotlib/__init__.py?line=1415'>1416</a>\u001b[0m                   \u001b[39mor\u001b[39;00m bound\u001b[39m.\u001b[39mkwargs\u001b[39m.\u001b[39mget(label_namer))\n",
      "File \u001b[1;32m~\\AppData\\Local\\Programs\\Python\\Python39\\lib\\site-packages\\matplotlib\\axes\\_axes.py:6864\u001b[0m, in \u001b[0;36mAxes.stairs\u001b[1;34m(self, values, edges, orientation, baseline, fill, **kwargs)\u001b[0m\n\u001b[0;32m   <a href='file:///c%3A/Users/Usuari/AppData/Local/Programs/Python/Python39/lib/site-packages/matplotlib/axes/_axes.py?line=6858'>6859</a>\u001b[0m     edges \u001b[39m=\u001b[39m np\u001b[39m.\u001b[39marange(\u001b[39mlen\u001b[39m(values) \u001b[39m+\u001b[39m \u001b[39m1\u001b[39m)\n\u001b[0;32m   <a href='file:///c%3A/Users/Usuari/AppData/Local/Programs/Python/Python39/lib/site-packages/matplotlib/axes/_axes.py?line=6860'>6861</a>\u001b[0m edges, values, baseline \u001b[39m=\u001b[39m \u001b[39mself\u001b[39m\u001b[39m.\u001b[39m_process_unit_info(\n\u001b[0;32m   <a href='file:///c%3A/Users/Usuari/AppData/Local/Programs/Python/Python39/lib/site-packages/matplotlib/axes/_axes.py?line=6861'>6862</a>\u001b[0m     [(\u001b[39m\"\u001b[39m\u001b[39mx\u001b[39m\u001b[39m\"\u001b[39m, edges), (\u001b[39m\"\u001b[39m\u001b[39my\u001b[39m\u001b[39m\"\u001b[39m, values), (\u001b[39m\"\u001b[39m\u001b[39my\u001b[39m\u001b[39m\"\u001b[39m, baseline)], kwargs)\n\u001b[1;32m-> <a href='file:///c%3A/Users/Usuari/AppData/Local/Programs/Python/Python39/lib/site-packages/matplotlib/axes/_axes.py?line=6863'>6864</a>\u001b[0m patch \u001b[39m=\u001b[39m mpatches\u001b[39m.\u001b[39mStepPatch(values,\n\u001b[0;32m   <a href='file:///c%3A/Users/Usuari/AppData/Local/Programs/Python/Python39/lib/site-packages/matplotlib/axes/_axes.py?line=6864'>6865</a>\u001b[0m                            edges,\n\u001b[0;32m   <a href='file:///c%3A/Users/Usuari/AppData/Local/Programs/Python/Python39/lib/site-packages/matplotlib/axes/_axes.py?line=6865'>6866</a>\u001b[0m                            baseline\u001b[39m=\u001b[39mbaseline,\n\u001b[0;32m   <a href='file:///c%3A/Users/Usuari/AppData/Local/Programs/Python/Python39/lib/site-packages/matplotlib/axes/_axes.py?line=6866'>6867</a>\u001b[0m                            orientation\u001b[39m=\u001b[39morientation,\n\u001b[0;32m   <a href='file:///c%3A/Users/Usuari/AppData/Local/Programs/Python/Python39/lib/site-packages/matplotlib/axes/_axes.py?line=6867'>6868</a>\u001b[0m                            fill\u001b[39m=\u001b[39mfill,\n\u001b[0;32m   <a href='file:///c%3A/Users/Usuari/AppData/Local/Programs/Python/Python39/lib/site-packages/matplotlib/axes/_axes.py?line=6868'>6869</a>\u001b[0m                            \u001b[39m*\u001b[39m\u001b[39m*\u001b[39mkwargs)\n\u001b[0;32m   <a href='file:///c%3A/Users/Usuari/AppData/Local/Programs/Python/Python39/lib/site-packages/matplotlib/axes/_axes.py?line=6869'>6870</a>\u001b[0m \u001b[39mself\u001b[39m\u001b[39m.\u001b[39madd_patch(patch)\n\u001b[0;32m   <a href='file:///c%3A/Users/Usuari/AppData/Local/Programs/Python/Python39/lib/site-packages/matplotlib/axes/_axes.py?line=6870'>6871</a>\u001b[0m \u001b[39mif\u001b[39;00m baseline \u001b[39mis\u001b[39;00m \u001b[39mNone\u001b[39;00m:\n",
      "File \u001b[1;32m~\\AppData\\Local\\Programs\\Python\\Python39\\lib\\site-packages\\matplotlib\\patches.py:968\u001b[0m, in \u001b[0;36mStepPatch.__init__\u001b[1;34m(self, values, edges, orientation, baseline, **kwargs)\u001b[0m\n\u001b[0;32m    <a href='file:///c%3A/Users/Usuari/AppData/Local/Programs/Python/Python39/lib/site-packages/matplotlib/patches.py?line=965'>966</a>\u001b[0m \u001b[39mself\u001b[39m\u001b[39m.\u001b[39m_values \u001b[39m=\u001b[39m np\u001b[39m.\u001b[39masarray(values)\n\u001b[0;32m    <a href='file:///c%3A/Users/Usuari/AppData/Local/Programs/Python/Python39/lib/site-packages/matplotlib/patches.py?line=966'>967</a>\u001b[0m \u001b[39mself\u001b[39m\u001b[39m.\u001b[39m_baseline \u001b[39m=\u001b[39m np\u001b[39m.\u001b[39masarray(baseline) \u001b[39mif\u001b[39;00m baseline \u001b[39mis\u001b[39;00m \u001b[39mnot\u001b[39;00m \u001b[39mNone\u001b[39;00m \u001b[39melse\u001b[39;00m \u001b[39mNone\u001b[39;00m\n\u001b[1;32m--> <a href='file:///c%3A/Users/Usuari/AppData/Local/Programs/Python/Python39/lib/site-packages/matplotlib/patches.py?line=967'>968</a>\u001b[0m \u001b[39mself\u001b[39;49m\u001b[39m.\u001b[39;49m_update_path()\n\u001b[0;32m    <a href='file:///c%3A/Users/Usuari/AppData/Local/Programs/Python/Python39/lib/site-packages/matplotlib/patches.py?line=968'>969</a>\u001b[0m \u001b[39msuper\u001b[39m()\u001b[39m.\u001b[39m\u001b[39m__init__\u001b[39m(\u001b[39mself\u001b[39m\u001b[39m.\u001b[39m_path, \u001b[39m*\u001b[39m\u001b[39m*\u001b[39mkwargs)\n",
      "File \u001b[1;32m~\\AppData\\Local\\Programs\\Python\\Python39\\lib\\site-packages\\matplotlib\\patches.py:985\u001b[0m, in \u001b[0;36mStepPatch._update_path\u001b[1;34m(self)\u001b[0m\n\u001b[0;32m    <a href='file:///c%3A/Users/Usuari/AppData/Local/Programs/Python/Python39/lib/site-packages/matplotlib/patches.py?line=982'>983</a>\u001b[0m \u001b[39mif\u001b[39;00m \u001b[39mself\u001b[39m\u001b[39m.\u001b[39m_baseline \u001b[39mis\u001b[39;00m \u001b[39mnot\u001b[39;00m \u001b[39mNone\u001b[39;00m:\n\u001b[0;32m    <a href='file:///c%3A/Users/Usuari/AppData/Local/Programs/Python/Python39/lib/site-packages/matplotlib/patches.py?line=983'>984</a>\u001b[0m     _nan_mask \u001b[39m|\u001b[39m\u001b[39m=\u001b[39m np\u001b[39m.\u001b[39misnan(\u001b[39mself\u001b[39m\u001b[39m.\u001b[39m_baseline)\n\u001b[1;32m--> <a href='file:///c%3A/Users/Usuari/AppData/Local/Programs/Python/Python39/lib/site-packages/matplotlib/patches.py?line=984'>985</a>\u001b[0m \u001b[39mfor\u001b[39;00m idx0, idx1 \u001b[39min\u001b[39;00m cbook\u001b[39m.\u001b[39;49mcontiguous_regions(\u001b[39m~\u001b[39;49m_nan_mask):\n\u001b[0;32m    <a href='file:///c%3A/Users/Usuari/AppData/Local/Programs/Python/Python39/lib/site-packages/matplotlib/patches.py?line=985'>986</a>\u001b[0m     x \u001b[39m=\u001b[39m np\u001b[39m.\u001b[39mrepeat(\u001b[39mself\u001b[39m\u001b[39m.\u001b[39m_edges[idx0:idx1\u001b[39m+\u001b[39m\u001b[39m1\u001b[39m], \u001b[39m2\u001b[39m)\n\u001b[0;32m    <a href='file:///c%3A/Users/Usuari/AppData/Local/Programs/Python/Python39/lib/site-packages/matplotlib/patches.py?line=986'>987</a>\u001b[0m     y \u001b[39m=\u001b[39m np\u001b[39m.\u001b[39mrepeat(\u001b[39mself\u001b[39m\u001b[39m.\u001b[39m_values[idx0:idx1], \u001b[39m2\u001b[39m)\n",
      "File \u001b[1;32m~\\AppData\\Local\\Programs\\Python\\Python39\\lib\\site-packages\\matplotlib\\cbook\\__init__.py:1262\u001b[0m, in \u001b[0;36mcontiguous_regions\u001b[1;34m(mask)\u001b[0m\n\u001b[0;32m   <a href='file:///c%3A/Users/Usuari/AppData/Local/Programs/Python/Python39/lib/site-packages/matplotlib/cbook/__init__.py?line=1258'>1259</a>\u001b[0m     \u001b[39mreturn\u001b[39;00m []\n\u001b[0;32m   <a href='file:///c%3A/Users/Usuari/AppData/Local/Programs/Python/Python39/lib/site-packages/matplotlib/cbook/__init__.py?line=1260'>1261</a>\u001b[0m \u001b[39m# Find the indices of region changes, and correct offset\u001b[39;00m\n\u001b[1;32m-> <a href='file:///c%3A/Users/Usuari/AppData/Local/Programs/Python/Python39/lib/site-packages/matplotlib/cbook/__init__.py?line=1261'>1262</a>\u001b[0m idx, \u001b[39m=\u001b[39m np\u001b[39m.\u001b[39mnonzero(mask[:\u001b[39m-\u001b[39m\u001b[39m1\u001b[39m] \u001b[39m!=\u001b[39m mask[\u001b[39m1\u001b[39m:])\n\u001b[0;32m   <a href='file:///c%3A/Users/Usuari/AppData/Local/Programs/Python/Python39/lib/site-packages/matplotlib/cbook/__init__.py?line=1262'>1263</a>\u001b[0m idx \u001b[39m+\u001b[39m\u001b[39m=\u001b[39m \u001b[39m1\u001b[39m\n\u001b[0;32m   <a href='file:///c%3A/Users/Usuari/AppData/Local/Programs/Python/Python39/lib/site-packages/matplotlib/cbook/__init__.py?line=1264'>1265</a>\u001b[0m \u001b[39m# List operations are faster for moderately sized arrays\u001b[39;00m\n",
      "\u001b[1;31mValueError\u001b[0m: too many values to unpack (expected 1)"
     ]
    },
    {
     "data": {
      "image/png": "[encoded data removed]",
      "text/plain": [
       "<Figure size 432x288 with 1 Axes>"
      ]
     },
     "metadata": {
      "needs_background": "light"
     },
     "output_type": "display_data"
    }
   ],
   "source": [
    "x = np.array([[0],[0],[3],[2],[0],[1],[0],[8],[0],[0],[0],[4],[0],[7],[6]])\n",
    "xT=np.transpose(x)\n",
    "print(xT)\n",
    "axis=np.array([range(15-1)])\n",
    "plt.stairs(axis,xT)\n",
    "plt.show()"
   ]
  },
  {
   "cell_type": "code",
   "execution_count": 175,
   "metadata": {},
   "outputs": [
    {
     "name": "stdout",
     "output_type": "stream",
     "text": [
      "[0. 0. 3. 2. 0. 1. 0. 8. 0. 0. 0. 4. 0. 7. 6.]\n",
      "[0. 0. 3. 2. 0. 1. 0. 8. 0. 0. 0. 4. 0. 7. 6.]\n"
     ]
    }
   ],
   "source": [
    "print(x)\n",
    "print(x.T)"
   ]
  }
 ],
 "metadata": {
  "interpreter": {
   "hash": "3efeaf8f12deeee38dec9f04e0b4bdf2695ae390c5ccbfd78431e919e9e4d08d"
  },
  "kernelspec": {
   "display_name": "Python 3.9.10 64-bit",
   "language": "python",
   "name": "python3"
  },
  "language_info": {
   "codemirror_mode": {
    "name": "ipython",
    "version": 3
   },
   "file_extension": ".py",
   "mimetype": "text/x-python",
   "name": "python",
   "nbconvert_exporter": "python",
   "pygments_lexer": "ipython3",
   "version": "3.9.10"
  },
  "orig_nbformat": 4
 },
 "nbformat": 4,
 "nbformat_minor": 2
}
